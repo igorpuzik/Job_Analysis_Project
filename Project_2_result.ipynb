{
  "cells": [
    {
      "attachments": {},
      "cell_type": "markdown",
      "id": "b8205264",
      "metadata": {},
      "source": [
        "<center> <img src = https://raw.githubusercontent.com/AndreyRysistov/DatasetsForPandas/main/hh%20label.jpg alt=\"drawing\" style=\"width:400px;\">"
      ]
    },
    {
      "cell_type": "markdown",
      "id": "829cb75b-f14e-4ba8-9195-7ba929a7d656",
      "metadata": {
        "id": "829cb75b-f14e-4ba8-9195-7ba929a7d656",
        "tags": []
      },
      "source": [
        "# <center> Проект: Анализ вакансий из HeadHunter\n",
        "   "
      ]
    },
    {
      "cell_type": "code",
      "execution_count": 137,
      "id": "dccfde33-2452-43fb-a8a5-5c6ebc02a71d",
      "metadata": {
        "id": "dccfde33-2452-43fb-a8a5-5c6ebc02a71d"
      },
      "outputs": [],
      "source": [
        "import pandas as pd\n",
        "import psycopg2\n",
        "import urllib.parse as req \n",
        "import plotly.express as px\n",
        "import warnings\n",
        "warnings.filterwarnings('ignore')"
      ]
    },
    {
      "cell_type": "code",
      "execution_count": 139,
      "id": "G4X_q8KBf7SF",
      "metadata": {
        "id": "G4X_q8KBf7SF"
      },
      "outputs": [],
      "source": [
        "connection = psycopg2.connect(\n",
        "    dbname=DBNAME,\n",
        "    user=USER,\n",
        "    host=HOST,\n",
        "    password=PASSWORD,\n",
        "    port=PORT\n",
        ")"
      ]
    },
    {
      "cell_type": "markdown",
      "id": "0dc6476b-7a00-44f1-ac93-6e3baed33a29",
      "metadata": {
        "id": "0dc6476b-7a00-44f1-ac93-6e3baed33a29"
      },
      "source": [
        "# Юнит 3. Предварительный анализ данных"
      ]
    },
    {
      "cell_type": "markdown",
      "id": "889782b6-8d1c-410e-8920-e57f27917c64",
      "metadata": {
        "id": "889782b6-8d1c-410e-8920-e57f27917c64"
      },
      "source": [
        "1. Напишите запрос, который посчитает количество вакансий в нашей базе (вакансии находятся в таблице vacancies). "
      ]
    },
    {
      "cell_type": "code",
      "execution_count": 140,
      "id": "bc39e68e-ed02-4ee2-9235-7258a2f867a8",
      "metadata": {
        "id": "bc39e68e-ed02-4ee2-9235-7258a2f867a8"
      },
      "outputs": [],
      "source": [
        "query_3_1 = '''select\n",
        "                   count(id) cnt_vacancies\n",
        "               from vacancies\n",
        "            '''"
      ]
    },
    {
      "cell_type": "code",
      "execution_count": 141,
      "id": "7mAwtsk4hEHY",
      "metadata": {
        "id": "7mAwtsk4hEHY"
      },
      "outputs": [
        {
          "data": {
            "text/html": [
              "<div>\n",
              "<style scoped>\n",
              "    .dataframe tbody tr th:only-of-type {\n",
              "        vertical-align: middle;\n",
              "    }\n",
              "\n",
              "    .dataframe tbody tr th {\n",
              "        vertical-align: top;\n",
              "    }\n",
              "\n",
              "    .dataframe thead th {\n",
              "        text-align: right;\n",
              "    }\n",
              "</style>\n",
              "<table border=\"1\" class=\"dataframe\">\n",
              "  <thead>\n",
              "    <tr style=\"text-align: right;\">\n",
              "      <th></th>\n",
              "      <th>cnt_vacancies</th>\n",
              "    </tr>\n",
              "  </thead>\n",
              "  <tbody>\n",
              "    <tr>\n",
              "      <th>0</th>\n",
              "      <td>49197</td>\n",
              "    </tr>\n",
              "  </tbody>\n",
              "</table>\n",
              "</div>"
            ],
            "text/plain": [
              "   cnt_vacancies\n",
              "0          49197"
            ]
          },
          "execution_count": 141,
          "metadata": {},
          "output_type": "execute_result"
        }
      ],
      "source": [
        "df = pd.read_sql_query(query_3_1, connection)\n",
        "df"
      ]
    },
    {
      "cell_type": "markdown",
      "id": "b583485d-1f9e-494e-ada4-80ffff7c53d6",
      "metadata": {
        "id": "b583485d-1f9e-494e-ada4-80ffff7c53d6"
      },
      "source": [
        "2. Напишите запрос, который посчитает количество работодателей (таблица employers). "
      ]
    },
    {
      "cell_type": "code",
      "execution_count": 142,
      "id": "5408c52c-3407-4a63-b25b-1aafa2322d28",
      "metadata": {
        "id": "5408c52c-3407-4a63-b25b-1aafa2322d28"
      },
      "outputs": [],
      "source": [
        "query_3_2 = '''select\n",
        "                   count(id) cnt_employers\n",
        "               from employers\n",
        "            '''"
      ]
    },
    {
      "cell_type": "code",
      "execution_count": 143,
      "id": "jVL4eshKhdqc",
      "metadata": {
        "id": "jVL4eshKhdqc"
      },
      "outputs": [
        {
          "data": {
            "text/html": [
              "<div>\n",
              "<style scoped>\n",
              "    .dataframe tbody tr th:only-of-type {\n",
              "        vertical-align: middle;\n",
              "    }\n",
              "\n",
              "    .dataframe tbody tr th {\n",
              "        vertical-align: top;\n",
              "    }\n",
              "\n",
              "    .dataframe thead th {\n",
              "        text-align: right;\n",
              "    }\n",
              "</style>\n",
              "<table border=\"1\" class=\"dataframe\">\n",
              "  <thead>\n",
              "    <tr style=\"text-align: right;\">\n",
              "      <th></th>\n",
              "      <th>cnt_employers</th>\n",
              "    </tr>\n",
              "  </thead>\n",
              "  <tbody>\n",
              "    <tr>\n",
              "      <th>0</th>\n",
              "      <td>23501</td>\n",
              "    </tr>\n",
              "  </tbody>\n",
              "</table>\n",
              "</div>"
            ],
            "text/plain": [
              "   cnt_employers\n",
              "0          23501"
            ]
          },
          "execution_count": 143,
          "metadata": {},
          "output_type": "execute_result"
        }
      ],
      "source": [
        "df = pd.read_sql_query(query_3_2, connection)\n",
        "df"
      ]
    },
    {
      "cell_type": "markdown",
      "id": "a2bfff1f-c975-4bf6-84be-2185d79dcb76",
      "metadata": {
        "id": "a2bfff1f-c975-4bf6-84be-2185d79dcb76"
      },
      "source": [
        "3. Посчитате с помощью запроса количество регионов (таблица areas)."
      ]
    },
    {
      "cell_type": "code",
      "execution_count": 144,
      "id": "1m8QJwBYhey6",
      "metadata": {
        "id": "1m8QJwBYhey6"
      },
      "outputs": [],
      "source": [
        "query_3_3 = '''select \n",
        "                   count(id) cnt_areas\n",
        "               from areas\n",
        "            '''"
      ]
    },
    {
      "cell_type": "code",
      "execution_count": 145,
      "id": "EZsn9tlfhe7f",
      "metadata": {
        "id": "EZsn9tlfhe7f"
      },
      "outputs": [
        {
          "data": {
            "text/html": [
              "<div>\n",
              "<style scoped>\n",
              "    .dataframe tbody tr th:only-of-type {\n",
              "        vertical-align: middle;\n",
              "    }\n",
              "\n",
              "    .dataframe tbody tr th {\n",
              "        vertical-align: top;\n",
              "    }\n",
              "\n",
              "    .dataframe thead th {\n",
              "        text-align: right;\n",
              "    }\n",
              "</style>\n",
              "<table border=\"1\" class=\"dataframe\">\n",
              "  <thead>\n",
              "    <tr style=\"text-align: right;\">\n",
              "      <th></th>\n",
              "      <th>cnt_areas</th>\n",
              "    </tr>\n",
              "  </thead>\n",
              "  <tbody>\n",
              "    <tr>\n",
              "      <th>0</th>\n",
              "      <td>1362</td>\n",
              "    </tr>\n",
              "  </tbody>\n",
              "</table>\n",
              "</div>"
            ],
            "text/plain": [
              "   cnt_areas\n",
              "0       1362"
            ]
          },
          "execution_count": 145,
          "metadata": {},
          "output_type": "execute_result"
        }
      ],
      "source": [
        "df = pd.read_sql_query(query_3_3, connection)\n",
        "df"
      ]
    },
    {
      "cell_type": "markdown",
      "id": "41bb59f3-53cc-4a67-a5bc-bedf573955e4",
      "metadata": {
        "id": "41bb59f3-53cc-4a67-a5bc-bedf573955e4"
      },
      "source": [
        "4. Посчитате с помощью запроса количество сфер деятельности в базе (таблица industries)."
      ]
    },
    {
      "cell_type": "code",
      "execution_count": 146,
      "id": "d286cf4c-707b-4cd2-9190-7ab3587d04a1",
      "metadata": {
        "id": "d286cf4c-707b-4cd2-9190-7ab3587d04a1"
      },
      "outputs": [],
      "source": [
        "query_3_4 = '''select\n",
        "                   count(id) cnt_industries\n",
        "               from industries\n",
        "            '''"
      ]
    },
    {
      "cell_type": "code",
      "execution_count": 147,
      "id": "JYAaoZ4qhfzW",
      "metadata": {
        "id": "JYAaoZ4qhfzW"
      },
      "outputs": [
        {
          "data": {
            "text/html": [
              "<div>\n",
              "<style scoped>\n",
              "    .dataframe tbody tr th:only-of-type {\n",
              "        vertical-align: middle;\n",
              "    }\n",
              "\n",
              "    .dataframe tbody tr th {\n",
              "        vertical-align: top;\n",
              "    }\n",
              "\n",
              "    .dataframe thead th {\n",
              "        text-align: right;\n",
              "    }\n",
              "</style>\n",
              "<table border=\"1\" class=\"dataframe\">\n",
              "  <thead>\n",
              "    <tr style=\"text-align: right;\">\n",
              "      <th></th>\n",
              "      <th>cnt_industries</th>\n",
              "    </tr>\n",
              "  </thead>\n",
              "  <tbody>\n",
              "    <tr>\n",
              "      <th>0</th>\n",
              "      <td>294</td>\n",
              "    </tr>\n",
              "  </tbody>\n",
              "</table>\n",
              "</div>"
            ],
            "text/plain": [
              "   cnt_industries\n",
              "0             294"
            ]
          },
          "execution_count": 147,
          "metadata": {},
          "output_type": "execute_result"
        }
      ],
      "source": [
        "df = pd.read_sql_query(query_3_4, connection)\n",
        "df"
      ]
    },
    {
      "cell_type": "markdown",
      "id": "9a8a2181-6914-448b-85f1-38f5f18b8a93",
      "metadata": {
        "id": "9a8a2181-6914-448b-85f1-38f5f18b8a93"
      },
      "source": [
        "***"
      ]
    },
    {
      "attachments": {},
      "cell_type": "markdown",
      "id": "87b9d571",
      "metadata": {},
      "source": [
        "**Вывод по предварительному анализу данных:**  \n",
        "В представленной к изучению базе имеется 49197 вакансий, перечислены 23501 работодатель и 1362 региона, названы  294  сферы деятельности "
      ]
    },
    {
      "cell_type": "markdown",
      "id": "8d62a9f3-f64e-4fe7-bdac-c4dffa16155e",
      "metadata": {
        "id": "8d62a9f3-f64e-4fe7-bdac-c4dffa16155e"
      },
      "source": [
        "# Юнит 4. Детальный анализ вакансий"
      ]
    },
    {
      "cell_type": "markdown",
      "id": "93053d3d-b284-481a-9cf7-012d7014c0e0",
      "metadata": {
        "id": "93053d3d-b284-481a-9cf7-012d7014c0e0"
      },
      "source": [
        "1. Напишите запрос, который позволит узнать, сколько (cnt) вакансий в каждом регионе (area).\n",
        "Отсортируйте по количеству вакансий в порядке убывания."
      ]
    },
    {
      "cell_type": "code",
      "execution_count": 148,
      "id": "3f069da6-fdc9-4ae7-b514-fafe2675efd3",
      "metadata": {
        "id": "3f069da6-fdc9-4ae7-b514-fafe2675efd3"
      },
      "outputs": [],
      "source": [
        "query_4_1 = '''select\n",
        "                   a.name area,\n",
        "                   count(v.id) cnt\n",
        "               from areas a \n",
        "               join vacancies v on a.id = v.area_id --соединяем таблицу areas и vacancies\n",
        "               group by area -- группируем по названию региона\n",
        "               order by cnt desc -- сортируем по убыванию\n",
        "            '''"
      ]
    },
    {
      "cell_type": "code",
      "execution_count": 149,
      "id": "P7QL86hrjhRJ",
      "metadata": {
        "id": "P7QL86hrjhRJ"
      },
      "outputs": [
        {
          "data": {
            "text/html": [
              "<div>\n",
              "<style scoped>\n",
              "    .dataframe tbody tr th:only-of-type {\n",
              "        vertical-align: middle;\n",
              "    }\n",
              "\n",
              "    .dataframe tbody tr th {\n",
              "        vertical-align: top;\n",
              "    }\n",
              "\n",
              "    .dataframe thead th {\n",
              "        text-align: right;\n",
              "    }\n",
              "</style>\n",
              "<table border=\"1\" class=\"dataframe\">\n",
              "  <thead>\n",
              "    <tr style=\"text-align: right;\">\n",
              "      <th></th>\n",
              "      <th>area</th>\n",
              "      <th>cnt</th>\n",
              "    </tr>\n",
              "  </thead>\n",
              "  <tbody>\n",
              "    <tr>\n",
              "      <th>0</th>\n",
              "      <td>Москва</td>\n",
              "      <td>5333</td>\n",
              "    </tr>\n",
              "    <tr>\n",
              "      <th>1</th>\n",
              "      <td>Санкт-Петербург</td>\n",
              "      <td>2851</td>\n",
              "    </tr>\n",
              "    <tr>\n",
              "      <th>2</th>\n",
              "      <td>Минск</td>\n",
              "      <td>2112</td>\n",
              "    </tr>\n",
              "    <tr>\n",
              "      <th>3</th>\n",
              "      <td>Новосибирск</td>\n",
              "      <td>2006</td>\n",
              "    </tr>\n",
              "    <tr>\n",
              "      <th>4</th>\n",
              "      <td>Алматы</td>\n",
              "      <td>1892</td>\n",
              "    </tr>\n",
              "    <tr>\n",
              "      <th>...</th>\n",
              "      <td>...</td>\n",
              "      <td>...</td>\n",
              "    </tr>\n",
              "    <tr>\n",
              "      <th>764</th>\n",
              "      <td>Тарко-Сале</td>\n",
              "      <td>1</td>\n",
              "    </tr>\n",
              "    <tr>\n",
              "      <th>765</th>\n",
              "      <td>Новоаннинский</td>\n",
              "      <td>1</td>\n",
              "    </tr>\n",
              "    <tr>\n",
              "      <th>766</th>\n",
              "      <td>Бирск</td>\n",
              "      <td>1</td>\n",
              "    </tr>\n",
              "    <tr>\n",
              "      <th>767</th>\n",
              "      <td>Сасово</td>\n",
              "      <td>1</td>\n",
              "    </tr>\n",
              "    <tr>\n",
              "      <th>768</th>\n",
              "      <td>Анна</td>\n",
              "      <td>1</td>\n",
              "    </tr>\n",
              "  </tbody>\n",
              "</table>\n",
              "<p>769 rows × 2 columns</p>\n",
              "</div>"
            ],
            "text/plain": [
              "                area   cnt\n",
              "0             Москва  5333\n",
              "1    Санкт-Петербург  2851\n",
              "2              Минск  2112\n",
              "3        Новосибирск  2006\n",
              "4             Алматы  1892\n",
              "..               ...   ...\n",
              "764       Тарко-Сале     1\n",
              "765    Новоаннинский     1\n",
              "766            Бирск     1\n",
              "767           Сасово     1\n",
              "768             Анна     1\n",
              "\n",
              "[769 rows x 2 columns]"
            ]
          },
          "execution_count": 149,
          "metadata": {},
          "output_type": "execute_result"
        }
      ],
      "source": [
        "df = pd.read_sql_query(query_4_1, connection)\n",
        "df"
      ]
    },
    {
      "cell_type": "markdown",
      "id": "4266f0b6-1646-492a-88b4-2f6a46502135",
      "metadata": {
        "id": "4266f0b6-1646-492a-88b4-2f6a46502135"
      },
      "source": [
        "2. Напишите запрос, чтобы определить у какого количества вакансий заполнено хотя бы одно из двух полей с зарплатой."
      ]
    },
    {
      "cell_type": "code",
      "execution_count": 150,
      "id": "0c44b350-72eb-4d65-8b54-a1fc449ba9fd",
      "metadata": {
        "id": "0c44b350-72eb-4d65-8b54-a1fc449ba9fd"
      },
      "outputs": [],
      "source": [
        "query_4_2 = '''select\n",
        "                   count(id) not_empty\n",
        "               from vacancies\n",
        "               where salary_to is not Null or salary_from is not Null -- заполнено хотя бы одно поле с зарплатой\n",
        "            '''"
      ]
    },
    {
      "cell_type": "code",
      "execution_count": 151,
      "id": "rhvwaMDkoWTi",
      "metadata": {
        "id": "rhvwaMDkoWTi"
      },
      "outputs": [
        {
          "data": {
            "text/html": [
              "<div>\n",
              "<style scoped>\n",
              "    .dataframe tbody tr th:only-of-type {\n",
              "        vertical-align: middle;\n",
              "    }\n",
              "\n",
              "    .dataframe tbody tr th {\n",
              "        vertical-align: top;\n",
              "    }\n",
              "\n",
              "    .dataframe thead th {\n",
              "        text-align: right;\n",
              "    }\n",
              "</style>\n",
              "<table border=\"1\" class=\"dataframe\">\n",
              "  <thead>\n",
              "    <tr style=\"text-align: right;\">\n",
              "      <th></th>\n",
              "      <th>not_empty</th>\n",
              "    </tr>\n",
              "  </thead>\n",
              "  <tbody>\n",
              "    <tr>\n",
              "      <th>0</th>\n",
              "      <td>24073</td>\n",
              "    </tr>\n",
              "  </tbody>\n",
              "</table>\n",
              "</div>"
            ],
            "text/plain": [
              "   not_empty\n",
              "0      24073"
            ]
          },
          "execution_count": 151,
          "metadata": {},
          "output_type": "execute_result"
        }
      ],
      "source": [
        "df = pd.read_sql_query(query_4_2, connection)\n",
        "df"
      ]
    },
    {
      "cell_type": "markdown",
      "id": "635c4d5d-f323-4c66-b428-50a088120aa0",
      "metadata": {
        "id": "635c4d5d-f323-4c66-b428-50a088120aa0"
      },
      "source": [
        "3. Найдите средние значения для нижней и верхней границы зарплатной вилки. Округлите значения до целого."
      ]
    },
    {
      "cell_type": "code",
      "execution_count": 152,
      "id": "603cdbe4-0ec3-4106-8eaf-c73fcdd29165",
      "metadata": {
        "id": "603cdbe4-0ec3-4106-8eaf-c73fcdd29165"
      },
      "outputs": [],
      "source": [
        "query_4_3 = '''select\n",
        "                   round(avg(salary_from)) avg_salary_from, -- среднее для нижней границы\n",
        "                   round(avg(salary_to)) avg_salary_to -- среднее для верхней границы\n",
        "               from vacancies\n",
        "            '''"
      ]
    },
    {
      "cell_type": "code",
      "execution_count": 153,
      "id": "pswpAb66ovZZ",
      "metadata": {
        "id": "pswpAb66ovZZ"
      },
      "outputs": [
        {
          "data": {
            "text/html": [
              "<div>\n",
              "<style scoped>\n",
              "    .dataframe tbody tr th:only-of-type {\n",
              "        vertical-align: middle;\n",
              "    }\n",
              "\n",
              "    .dataframe tbody tr th {\n",
              "        vertical-align: top;\n",
              "    }\n",
              "\n",
              "    .dataframe thead th {\n",
              "        text-align: right;\n",
              "    }\n",
              "</style>\n",
              "<table border=\"1\" class=\"dataframe\">\n",
              "  <thead>\n",
              "    <tr style=\"text-align: right;\">\n",
              "      <th></th>\n",
              "      <th>avg_salary_from</th>\n",
              "      <th>avg_salary_to</th>\n",
              "    </tr>\n",
              "  </thead>\n",
              "  <tbody>\n",
              "    <tr>\n",
              "      <th>0</th>\n",
              "      <td>71065.0</td>\n",
              "      <td>110537.0</td>\n",
              "    </tr>\n",
              "  </tbody>\n",
              "</table>\n",
              "</div>"
            ],
            "text/plain": [
              "   avg_salary_from  avg_salary_to\n",
              "0          71065.0       110537.0"
            ]
          },
          "execution_count": 153,
          "metadata": {},
          "output_type": "execute_result"
        }
      ],
      "source": [
        "df = pd.read_sql_query(query_4_3, connection)\n",
        "df"
      ]
    },
    {
      "cell_type": "markdown",
      "id": "f3fdaec9-5fd3-4260-9cf5-1d7406b628a5",
      "metadata": {
        "id": "f3fdaec9-5fd3-4260-9cf5-1d7406b628a5"
      },
      "source": [
        "4. Напишите запрос, который выведет количество вакансий для каждого сочетания типа рабочего графика (schedule) и типа трудоустройства (employment), используемого в вакансиях. Результат отсортируйте по убыванию количества.\n"
      ]
    },
    {
      "cell_type": "code",
      "execution_count": 154,
      "id": "1ea710ec-871b-431e-9462-c7d0fd87011b",
      "metadata": {
        "id": "1ea710ec-871b-431e-9462-c7d0fd87011b"
      },
      "outputs": [],
      "source": [
        "query_4_4 = '''select\n",
        "                   schedule,\n",
        "                   employment,\n",
        "                   count(id) cnt\n",
        "               from vacancies\n",
        "               group by schedule, employment -- группируем по 1 и 2\n",
        "               order by cnt desc -- сортируем по убыванию\n",
        "            '''"
      ]
    },
    {
      "cell_type": "code",
      "execution_count": 155,
      "id": "lGUVqavdo4JQ",
      "metadata": {
        "id": "lGUVqavdo4JQ"
      },
      "outputs": [
        {
          "data": {
            "text/html": [
              "<div>\n",
              "<style scoped>\n",
              "    .dataframe tbody tr th:only-of-type {\n",
              "        vertical-align: middle;\n",
              "    }\n",
              "\n",
              "    .dataframe tbody tr th {\n",
              "        vertical-align: top;\n",
              "    }\n",
              "\n",
              "    .dataframe thead th {\n",
              "        text-align: right;\n",
              "    }\n",
              "</style>\n",
              "<table border=\"1\" class=\"dataframe\">\n",
              "  <thead>\n",
              "    <tr style=\"text-align: right;\">\n",
              "      <th></th>\n",
              "      <th>schedule</th>\n",
              "      <th>employment</th>\n",
              "      <th>cnt</th>\n",
              "    </tr>\n",
              "  </thead>\n",
              "  <tbody>\n",
              "    <tr>\n",
              "      <th>0</th>\n",
              "      <td>Полный день</td>\n",
              "      <td>Полная занятость</td>\n",
              "      <td>35367</td>\n",
              "    </tr>\n",
              "    <tr>\n",
              "      <th>1</th>\n",
              "      <td>Удаленная работа</td>\n",
              "      <td>Полная занятость</td>\n",
              "      <td>7802</td>\n",
              "    </tr>\n",
              "    <tr>\n",
              "      <th>2</th>\n",
              "      <td>Гибкий график</td>\n",
              "      <td>Полная занятость</td>\n",
              "      <td>1593</td>\n",
              "    </tr>\n",
              "    <tr>\n",
              "      <th>3</th>\n",
              "      <td>Удаленная работа</td>\n",
              "      <td>Частичная занятость</td>\n",
              "      <td>1312</td>\n",
              "    </tr>\n",
              "    <tr>\n",
              "      <th>4</th>\n",
              "      <td>Сменный график</td>\n",
              "      <td>Полная занятость</td>\n",
              "      <td>940</td>\n",
              "    </tr>\n",
              "    <tr>\n",
              "      <th>5</th>\n",
              "      <td>Полный день</td>\n",
              "      <td>Стажировка</td>\n",
              "      <td>569</td>\n",
              "    </tr>\n",
              "    <tr>\n",
              "      <th>6</th>\n",
              "      <td>Вахтовый метод</td>\n",
              "      <td>Полная занятость</td>\n",
              "      <td>367</td>\n",
              "    </tr>\n",
              "    <tr>\n",
              "      <th>7</th>\n",
              "      <td>Полный день</td>\n",
              "      <td>Частичная занятость</td>\n",
              "      <td>347</td>\n",
              "    </tr>\n",
              "    <tr>\n",
              "      <th>8</th>\n",
              "      <td>Гибкий график</td>\n",
              "      <td>Частичная занятость</td>\n",
              "      <td>312</td>\n",
              "    </tr>\n",
              "    <tr>\n",
              "      <th>9</th>\n",
              "      <td>Полный день</td>\n",
              "      <td>Проектная работа</td>\n",
              "      <td>141</td>\n",
              "    </tr>\n",
              "    <tr>\n",
              "      <th>10</th>\n",
              "      <td>Удаленная работа</td>\n",
              "      <td>Проектная работа</td>\n",
              "      <td>133</td>\n",
              "    </tr>\n",
              "    <tr>\n",
              "      <th>11</th>\n",
              "      <td>Гибкий график</td>\n",
              "      <td>Стажировка</td>\n",
              "      <td>116</td>\n",
              "    </tr>\n",
              "    <tr>\n",
              "      <th>12</th>\n",
              "      <td>Сменный график</td>\n",
              "      <td>Частичная занятость</td>\n",
              "      <td>101</td>\n",
              "    </tr>\n",
              "    <tr>\n",
              "      <th>13</th>\n",
              "      <td>Удаленная работа</td>\n",
              "      <td>Стажировка</td>\n",
              "      <td>64</td>\n",
              "    </tr>\n",
              "    <tr>\n",
              "      <th>14</th>\n",
              "      <td>Гибкий график</td>\n",
              "      <td>Проектная работа</td>\n",
              "      <td>18</td>\n",
              "    </tr>\n",
              "    <tr>\n",
              "      <th>15</th>\n",
              "      <td>Сменный график</td>\n",
              "      <td>Стажировка</td>\n",
              "      <td>12</td>\n",
              "    </tr>\n",
              "    <tr>\n",
              "      <th>16</th>\n",
              "      <td>Вахтовый метод</td>\n",
              "      <td>Проектная работа</td>\n",
              "      <td>2</td>\n",
              "    </tr>\n",
              "    <tr>\n",
              "      <th>17</th>\n",
              "      <td>Сменный график</td>\n",
              "      <td>Проектная работа</td>\n",
              "      <td>1</td>\n",
              "    </tr>\n",
              "  </tbody>\n",
              "</table>\n",
              "</div>"
            ],
            "text/plain": [
              "            schedule           employment    cnt\n",
              "0        Полный день     Полная занятость  35367\n",
              "1   Удаленная работа     Полная занятость   7802\n",
              "2      Гибкий график     Полная занятость   1593\n",
              "3   Удаленная работа  Частичная занятость   1312\n",
              "4     Сменный график     Полная занятость    940\n",
              "5        Полный день           Стажировка    569\n",
              "6     Вахтовый метод     Полная занятость    367\n",
              "7        Полный день  Частичная занятость    347\n",
              "8      Гибкий график  Частичная занятость    312\n",
              "9        Полный день     Проектная работа    141\n",
              "10  Удаленная работа     Проектная работа    133\n",
              "11     Гибкий график           Стажировка    116\n",
              "12    Сменный график  Частичная занятость    101\n",
              "13  Удаленная работа           Стажировка     64\n",
              "14     Гибкий график     Проектная работа     18\n",
              "15    Сменный график           Стажировка     12\n",
              "16    Вахтовый метод     Проектная работа      2\n",
              "17    Сменный график     Проектная работа      1"
            ]
          },
          "execution_count": 155,
          "metadata": {},
          "output_type": "execute_result"
        }
      ],
      "source": [
        "df = pd.read_sql_query(query_4_4, connection)\n",
        "df"
      ]
    },
    {
      "cell_type": "markdown",
      "id": "0136ffee-0ead-4a6b-b608-61d1c753a438",
      "metadata": {
        "id": "0136ffee-0ead-4a6b-b608-61d1c753a438"
      },
      "source": [
        "5. Напишите запрос, выводящий значения поля Требуемый опыт работы (experience) в порядке возрастания количества вакансий, в которых указан данный вариант опыта. "
      ]
    },
    {
      "cell_type": "code",
      "execution_count": 156,
      "id": "5b3a8e79-f7ab-4008-b767-12aea3a205ea",
      "metadata": {
        "id": "5b3a8e79-f7ab-4008-b767-12aea3a205ea"
      },
      "outputs": [],
      "source": [
        "query_4_5 = '''select\n",
        "                   experience,\n",
        "                   count(id) cnt\n",
        "               from vacancies\n",
        "               group by experience -- группируем по 1\n",
        "               order by cnt --сортируем по возрастанию\n",
        "            '''"
      ]
    },
    {
      "cell_type": "code",
      "execution_count": 157,
      "id": "3Is64Y-hpDpq",
      "metadata": {
        "id": "3Is64Y-hpDpq"
      },
      "outputs": [
        {
          "data": {
            "text/html": [
              "<div>\n",
              "<style scoped>\n",
              "    .dataframe tbody tr th:only-of-type {\n",
              "        vertical-align: middle;\n",
              "    }\n",
              "\n",
              "    .dataframe tbody tr th {\n",
              "        vertical-align: top;\n",
              "    }\n",
              "\n",
              "    .dataframe thead th {\n",
              "        text-align: right;\n",
              "    }\n",
              "</style>\n",
              "<table border=\"1\" class=\"dataframe\">\n",
              "  <thead>\n",
              "    <tr style=\"text-align: right;\">\n",
              "      <th></th>\n",
              "      <th>experience</th>\n",
              "      <th>cnt</th>\n",
              "    </tr>\n",
              "  </thead>\n",
              "  <tbody>\n",
              "    <tr>\n",
              "      <th>0</th>\n",
              "      <td>Более 6 лет</td>\n",
              "      <td>1337</td>\n",
              "    </tr>\n",
              "    <tr>\n",
              "      <th>1</th>\n",
              "      <td>Нет опыта</td>\n",
              "      <td>7197</td>\n",
              "    </tr>\n",
              "    <tr>\n",
              "      <th>2</th>\n",
              "      <td>От 3 до 6 лет</td>\n",
              "      <td>14511</td>\n",
              "    </tr>\n",
              "    <tr>\n",
              "      <th>3</th>\n",
              "      <td>От 1 года до 3 лет</td>\n",
              "      <td>26152</td>\n",
              "    </tr>\n",
              "  </tbody>\n",
              "</table>\n",
              "</div>"
            ],
            "text/plain": [
              "           experience    cnt\n",
              "0         Более 6 лет   1337\n",
              "1           Нет опыта   7197\n",
              "2       От 3 до 6 лет  14511\n",
              "3  От 1 года до 3 лет  26152"
            ]
          },
          "execution_count": 157,
          "metadata": {},
          "output_type": "execute_result"
        }
      ],
      "source": [
        "df = pd.read_sql_query(query_4_5, connection)\n",
        "df"
      ]
    },
    {
      "cell_type": "markdown",
      "id": "oq2b7n1QpIka",
      "metadata": {
        "id": "oq2b7n1QpIka"
      },
      "source": [
        "***"
      ]
    },
    {
      "attachments": {},
      "cell_type": "markdown",
      "id": "3b0137fc",
      "metadata": {},
      "source": [
        "# Дополнительный анализ"
      ]
    },
    {
      "attachments": {},
      "cell_type": "markdown",
      "id": "6aecd082",
      "metadata": {},
      "source": [
        "6. Запрос у какого количества вакансий заполнены поля с зарплатой + колонка с процентами"
      ]
    },
    {
      "cell_type": "code",
      "execution_count": 158,
      "id": "179211e4",
      "metadata": {},
      "outputs": [],
      "source": [
        "query_4_6 = ''' with salary_table as ( -- создаём временную таблицу методом объединения 4-х строк\n",
        "                    select\n",
        "                        'Минимум и Максимум' salary,\n",
        "                        count(id) vacancies\n",
        "                    from\n",
        "                        vacancies \n",
        "                    where salary_from is not null and salary_to is not null -- заполнены оба поля с зарплатой\n",
        "                    union\n",
        "                    select\n",
        "                        'только Минимум',\n",
        "                        count(id)\n",
        "                    from\n",
        "                        vacancies \n",
        "                    where salary_from is not null AND salary_to is null -- заполнено только поле с минимумом зарплаты\n",
        "                    union\n",
        "                    select\n",
        "                        'только Максимум',\n",
        "                        count(id)\n",
        "                    from\n",
        "                        vacancies \n",
        "                    where salary_from IS NULL AND salary_to is not null -- заполнено только поле с максимумом зарплаты\n",
        "                    union\n",
        "                    select\n",
        "                        'Отсутствует',\n",
        "                        count(id)\n",
        "                    from\n",
        "                        vacancies \n",
        "                    where salary_from is null and salary_to is null -- не заполнены оба поля с зарплатой \n",
        "                    )\n",
        "                    select -- итоговая таблица \n",
        "                       *,\n",
        "                        round(vacancies/(select sum(vacancies) from salary_table)*100) percent -- вычисление процента \n",
        "                    from\n",
        "                        salary_table\n",
        "                    order by vacancies desc -- сортировка по убыванию\n",
        "            '''"
      ]
    },
    {
      "cell_type": "code",
      "execution_count": 159,
      "id": "7177b3cf",
      "metadata": {},
      "outputs": [
        {
          "data": {
            "text/html": [
              "<div>\n",
              "<style scoped>\n",
              "    .dataframe tbody tr th:only-of-type {\n",
              "        vertical-align: middle;\n",
              "    }\n",
              "\n",
              "    .dataframe tbody tr th {\n",
              "        vertical-align: top;\n",
              "    }\n",
              "\n",
              "    .dataframe thead th {\n",
              "        text-align: right;\n",
              "    }\n",
              "</style>\n",
              "<table border=\"1\" class=\"dataframe\">\n",
              "  <thead>\n",
              "    <tr style=\"text-align: right;\">\n",
              "      <th></th>\n",
              "      <th>salary</th>\n",
              "      <th>vacancies</th>\n",
              "      <th>percent</th>\n",
              "    </tr>\n",
              "  </thead>\n",
              "  <tbody>\n",
              "    <tr>\n",
              "      <th>0</th>\n",
              "      <td>Отсутствует</td>\n",
              "      <td>25124</td>\n",
              "      <td>51.0</td>\n",
              "    </tr>\n",
              "    <tr>\n",
              "      <th>1</th>\n",
              "      <td>только Минимум</td>\n",
              "      <td>11383</td>\n",
              "      <td>23.0</td>\n",
              "    </tr>\n",
              "    <tr>\n",
              "      <th>2</th>\n",
              "      <td>Минимум и Максимум</td>\n",
              "      <td>10102</td>\n",
              "      <td>21.0</td>\n",
              "    </tr>\n",
              "    <tr>\n",
              "      <th>3</th>\n",
              "      <td>только Максимум</td>\n",
              "      <td>2588</td>\n",
              "      <td>5.0</td>\n",
              "    </tr>\n",
              "  </tbody>\n",
              "</table>\n",
              "</div>"
            ],
            "text/plain": [
              "               salary  vacancies  percent\n",
              "0         Отсутствует      25124     51.0\n",
              "1      только Минимум      11383     23.0\n",
              "2  Минимум и Максимум      10102     21.0\n",
              "3     только Максимум       2588      5.0"
            ]
          },
          "execution_count": 159,
          "metadata": {},
          "output_type": "execute_result"
        }
      ],
      "source": [
        "df = pd.read_sql_query(query_4_6, connection)\n",
        "df"
      ]
    },
    {
      "attachments": {},
      "cell_type": "markdown",
      "id": "c1a6d2bb",
      "metadata": {},
      "source": [
        "7. Запрос на определение процента вакансий с Удалённой работой, Полным днём и Гибким графиком"
      ]
    },
    {
      "cell_type": "code",
      "execution_count": 160,
      "id": "c0ceb770",
      "metadata": {},
      "outputs": [],
      "source": [
        "query_4_7 = '''with w as ( -- временная таблица с количеством вакансий по трём категориям рабочего графика\n",
        "               select\n",
        "                   schedule,\n",
        "                   count(*) cnt\n",
        "               from vacancies\n",
        "               where schedule in ('Полный день', 'Удаленная работа', 'Гибкий график')\n",
        "               group by schedule\n",
        "               order by cnt desc\n",
        "               )\n",
        "               select\n",
        "                   schedule,\n",
        "                   100*cnt/(select count(id) from vacancies) percent -- превращаем количество в проценты\n",
        "               from w\n",
        "            '''"
      ]
    },
    {
      "cell_type": "code",
      "execution_count": 161,
      "id": "8379348d",
      "metadata": {},
      "outputs": [
        {
          "data": {
            "text/html": [
              "<div>\n",
              "<style scoped>\n",
              "    .dataframe tbody tr th:only-of-type {\n",
              "        vertical-align: middle;\n",
              "    }\n",
              "\n",
              "    .dataframe tbody tr th {\n",
              "        vertical-align: top;\n",
              "    }\n",
              "\n",
              "    .dataframe thead th {\n",
              "        text-align: right;\n",
              "    }\n",
              "</style>\n",
              "<table border=\"1\" class=\"dataframe\">\n",
              "  <thead>\n",
              "    <tr style=\"text-align: right;\">\n",
              "      <th></th>\n",
              "      <th>schedule</th>\n",
              "      <th>percent</th>\n",
              "    </tr>\n",
              "  </thead>\n",
              "  <tbody>\n",
              "    <tr>\n",
              "      <th>0</th>\n",
              "      <td>Полный день</td>\n",
              "      <td>74</td>\n",
              "    </tr>\n",
              "    <tr>\n",
              "      <th>1</th>\n",
              "      <td>Удаленная работа</td>\n",
              "      <td>18</td>\n",
              "    </tr>\n",
              "    <tr>\n",
              "      <th>2</th>\n",
              "      <td>Гибкий график</td>\n",
              "      <td>4</td>\n",
              "    </tr>\n",
              "  </tbody>\n",
              "</table>\n",
              "</div>"
            ],
            "text/plain": [
              "           schedule  percent\n",
              "0       Полный день       74\n",
              "1  Удаленная работа       18\n",
              "2     Гибкий график        4"
            ]
          },
          "execution_count": 161,
          "metadata": {},
          "output_type": "execute_result"
        }
      ],
      "source": [
        "df = pd.read_sql_query(query_4_7, connection)\n",
        "df"
      ]
    },
    {
      "attachments": {},
      "cell_type": "markdown",
      "id": "33517ba6",
      "metadata": {},
      "source": [
        "**Выводы по детальному анализу вакансий:**  \n",
        "* Предсказумо лидерами среди регионов по количеству размещенных вакансий являются регионы - мегаполисы с развитой промышленностью, хозяйственной инфраструктурой, являющихся управленческими центрами регионов Российской Федерации и стран СНГ, для которых требуется мощное информационное обеспечение.   \n",
        "* Более чем у половины вакансий (51%) не указан размер зарплаты. Отсутствие такого важного параметра усложняет выбор и предложение вакансии клиенту.  \n",
        "* Среднее значение по нижней границе ЗП - 71065 по верхней границе ЗП - 110537. Это ниже средней ЗП в ИТ-сфере за 2022 г (140 тыс. руб), что, вероятно, вызвано тем что ожидаются начинающие (с опытом от 1 до 3 лет) специалисты.  \n",
        "* Наиболее востребованные работники - работники на полный рабочий день с поной занятностью с опытом работы от 1 до 3 лет. Больше четверти вакансий ждут работников со стажем от 3 до 6 лет.  74 процента соискателей ждёт полный рабочий день в офисе. 18 процентов могут рботать на удалёнке."
      ]
    },
    {
      "cell_type": "markdown",
      "id": "7ea20ab6-04a7-40a0-adec-443a0e5a42c3",
      "metadata": {
        "id": "7ea20ab6-04a7-40a0-adec-443a0e5a42c3"
      },
      "source": [
        "# Юнит 5. Анализ работодателей"
      ]
    },
    {
      "cell_type": "markdown",
      "id": "968aed80-74ef-4ffb-b5bf-c65b84e9caea",
      "metadata": {
        "id": "968aed80-74ef-4ffb-b5bf-c65b84e9caea"
      },
      "source": [
        "1. Напишите запрос, который позволит узнать, какие работодатели находятся на первом и пятом месте по количеству вакансий."
      ]
    },
    {
      "cell_type": "code",
      "execution_count": 162,
      "id": "f2d62796-d400-4ec1-a675-88112739a50e",
      "metadata": {
        "id": "f2d62796-d400-4ec1-a675-88112739a50e"
      },
      "outputs": [],
      "source": [
        "query_5_1 = '''(select  -- заключение запроса в скобки позволяют производить группировку до объединения\n",
        "                    'На первом месте' hierarchy,\n",
        "                    e.name,\n",
        "                    count(v.id) cnt\n",
        "                from employers e\n",
        "                    join vacancies v on e.id = v.employer_id\n",
        "                group by hierarchy, e.name -- группируем по иерархии и имени работодателя\n",
        "                order by cnt desc -- сортируем по убыванию\n",
        "                limit 1) -- выводим работодателя на 1 месте\n",
        "        \n",
        "                union all -- объединяем таблицы чтобы вывести работодателей на 1 и 5 месте\n",
        "\n",
        "                (select\n",
        "                    'На пятом месте' hierarchy,\n",
        "                    e.name,\n",
        "                    count(v.id) cnt\n",
        "                from employers e\n",
        "                    join vacancies v on e.id = v.employer_id\n",
        "                    group by hierarchy, e.name\n",
        "                order by cnt desc\n",
        "                offset 4 limit 1) -- выводим работодателя на 5-м месте\n",
        "            '''"
      ]
    },
    {
      "cell_type": "code",
      "execution_count": 163,
      "id": "64tOMkAxqkQk",
      "metadata": {
        "id": "64tOMkAxqkQk"
      },
      "outputs": [
        {
          "data": {
            "text/html": [
              "<div>\n",
              "<style scoped>\n",
              "    .dataframe tbody tr th:only-of-type {\n",
              "        vertical-align: middle;\n",
              "    }\n",
              "\n",
              "    .dataframe tbody tr th {\n",
              "        vertical-align: top;\n",
              "    }\n",
              "\n",
              "    .dataframe thead th {\n",
              "        text-align: right;\n",
              "    }\n",
              "</style>\n",
              "<table border=\"1\" class=\"dataframe\">\n",
              "  <thead>\n",
              "    <tr style=\"text-align: right;\">\n",
              "      <th></th>\n",
              "      <th>hierarchy</th>\n",
              "      <th>name</th>\n",
              "      <th>cnt</th>\n",
              "    </tr>\n",
              "  </thead>\n",
              "  <tbody>\n",
              "    <tr>\n",
              "      <th>0</th>\n",
              "      <td>На первом месте</td>\n",
              "      <td>Яндекс</td>\n",
              "      <td>1933</td>\n",
              "    </tr>\n",
              "    <tr>\n",
              "      <th>1</th>\n",
              "      <td>На пятом месте</td>\n",
              "      <td>Газпром нефть</td>\n",
              "      <td>331</td>\n",
              "    </tr>\n",
              "  </tbody>\n",
              "</table>\n",
              "</div>"
            ],
            "text/plain": [
              "         hierarchy           name   cnt\n",
              "0  На первом месте         Яндекс  1933\n",
              "1   На пятом месте  Газпром нефть   331"
            ]
          },
          "execution_count": 163,
          "metadata": {},
          "output_type": "execute_result"
        }
      ],
      "source": [
        "df = pd.read_sql_query(query_5_1, connection)\n",
        "df"
      ]
    },
    {
      "cell_type": "markdown",
      "id": "68377cfc-b378-43dc-ab7d-1195abf2c515",
      "metadata": {
        "id": "68377cfc-b378-43dc-ab7d-1195abf2c515"
      },
      "source": [
        "2. Напишите запрос, который для каждого региона выведет количество работодателей и вакансий в нём.\n",
        "Среди регионов, в которых нет вакансий, найдите тот, в котором наибольшее количество работодателей.\n"
      ]
    },
    {
      "cell_type": "code",
      "execution_count": 164,
      "id": "dd7df27a-e3e8-412e-a21a-5d389b71e891",
      "metadata": {
        "id": "dd7df27a-e3e8-412e-a21a-5d389b71e891"
      },
      "outputs": [],
      "source": [
        "query_5_2 = '''select\n",
        "                   a.name area_name,\n",
        "                   count(e.id) employers_count,\n",
        "                   count(v.id) vacancies_count\n",
        "               from areas a\n",
        "                   left join employers e on a.id = e.area\n",
        "                   left join vacancies v on a.id = v.area_id\n",
        "               group by a.name\n",
        "               having count(v.id) = 0 -- выделяем регионы где нет вакансий \n",
        "               order by employers_count desc -- сортируем по убыванию\n",
        "            '''"
      ]
    },
    {
      "cell_type": "code",
      "execution_count": 165,
      "id": "x1ikWbydrbf6",
      "metadata": {
        "id": "x1ikWbydrbf6"
      },
      "outputs": [
        {
          "data": {
            "text/html": [
              "<div>\n",
              "<style scoped>\n",
              "    .dataframe tbody tr th:only-of-type {\n",
              "        vertical-align: middle;\n",
              "    }\n",
              "\n",
              "    .dataframe tbody tr th {\n",
              "        vertical-align: top;\n",
              "    }\n",
              "\n",
              "    .dataframe thead th {\n",
              "        text-align: right;\n",
              "    }\n",
              "</style>\n",
              "<table border=\"1\" class=\"dataframe\">\n",
              "  <thead>\n",
              "    <tr style=\"text-align: right;\">\n",
              "      <th></th>\n",
              "      <th>area_name</th>\n",
              "      <th>employers_count</th>\n",
              "      <th>vacancies_count</th>\n",
              "    </tr>\n",
              "  </thead>\n",
              "  <tbody>\n",
              "    <tr>\n",
              "      <th>0</th>\n",
              "      <td>Россия</td>\n",
              "      <td>410</td>\n",
              "      <td>0</td>\n",
              "    </tr>\n",
              "    <tr>\n",
              "      <th>1</th>\n",
              "      <td>Казахстан</td>\n",
              "      <td>207</td>\n",
              "      <td>0</td>\n",
              "    </tr>\n",
              "    <tr>\n",
              "      <th>2</th>\n",
              "      <td>Московская область</td>\n",
              "      <td>75</td>\n",
              "      <td>0</td>\n",
              "    </tr>\n",
              "    <tr>\n",
              "      <th>3</th>\n",
              "      <td>Краснодарский край</td>\n",
              "      <td>19</td>\n",
              "      <td>0</td>\n",
              "    </tr>\n",
              "    <tr>\n",
              "      <th>4</th>\n",
              "      <td>Ростовская область</td>\n",
              "      <td>18</td>\n",
              "      <td>0</td>\n",
              "    </tr>\n",
              "    <tr>\n",
              "      <th>...</th>\n",
              "      <td>...</td>\n",
              "      <td>...</td>\n",
              "      <td>...</td>\n",
              "    </tr>\n",
              "    <tr>\n",
              "      <th>588</th>\n",
              "      <td>Струнино</td>\n",
              "      <td>0</td>\n",
              "      <td>0</td>\n",
              "    </tr>\n",
              "    <tr>\n",
              "      <th>589</th>\n",
              "      <td>Славгород (Алтайский край)</td>\n",
              "      <td>0</td>\n",
              "      <td>0</td>\n",
              "    </tr>\n",
              "    <tr>\n",
              "      <th>590</th>\n",
              "      <td>Сорочинск</td>\n",
              "      <td>0</td>\n",
              "      <td>0</td>\n",
              "    </tr>\n",
              "    <tr>\n",
              "      <th>591</th>\n",
              "      <td>Ленинский (Тульская область)</td>\n",
              "      <td>0</td>\n",
              "      <td>0</td>\n",
              "    </tr>\n",
              "    <tr>\n",
              "      <th>592</th>\n",
              "      <td>Тавда</td>\n",
              "      <td>0</td>\n",
              "      <td>0</td>\n",
              "    </tr>\n",
              "  </tbody>\n",
              "</table>\n",
              "<p>593 rows × 3 columns</p>\n",
              "</div>"
            ],
            "text/plain": [
              "                        area_name  employers_count  vacancies_count\n",
              "0                          Россия              410                0\n",
              "1                       Казахстан              207                0\n",
              "2              Московская область               75                0\n",
              "3              Краснодарский край               19                0\n",
              "4              Ростовская область               18                0\n",
              "..                            ...              ...              ...\n",
              "588                      Струнино                0                0\n",
              "589    Славгород (Алтайский край)                0                0\n",
              "590                     Сорочинск                0                0\n",
              "591  Ленинский (Тульская область)                0                0\n",
              "592                         Тавда                0                0\n",
              "\n",
              "[593 rows x 3 columns]"
            ]
          },
          "execution_count": 165,
          "metadata": {},
          "output_type": "execute_result"
        }
      ],
      "source": [
        "df = pd.read_sql_query(query_5_2, connection)\n",
        "df"
      ]
    },
    {
      "cell_type": "markdown",
      "id": "f2fe0acb-ab1a-4e15-9326-2560e22d73c1",
      "metadata": {
        "id": "f2fe0acb-ab1a-4e15-9326-2560e22d73c1"
      },
      "source": [
        "3. Для каждого работодателя посчитайте количество регионов, в которых он публикует свои вакансии. Отсортируйте результат по убыванию количества.\n"
      ]
    },
    {
      "cell_type": "code",
      "execution_count": 166,
      "id": "6271f8ad-bd2e-4196-ae4a-5b39c4c1010e",
      "metadata": {
        "id": "6271f8ad-bd2e-4196-ae4a-5b39c4c1010e"
      },
      "outputs": [],
      "source": [
        "query_5_3 = '''select   \n",
        "                   e.name employer_name,\n",
        "                   count(distinct v.area_id) area_cnt --считаем только уникальные регионы\n",
        "               from employers e\n",
        "                   join vacancies v on e.id = v.employer_id\n",
        "               group by employer_name\n",
        "               order by area_cnt desc\n",
        "            '''"
      ]
    },
    {
      "cell_type": "code",
      "execution_count": 167,
      "id": "1EIvX3HasH4F",
      "metadata": {
        "id": "1EIvX3HasH4F"
      },
      "outputs": [
        {
          "data": {
            "text/html": [
              "<div>\n",
              "<style scoped>\n",
              "    .dataframe tbody tr th:only-of-type {\n",
              "        vertical-align: middle;\n",
              "    }\n",
              "\n",
              "    .dataframe tbody tr th {\n",
              "        vertical-align: top;\n",
              "    }\n",
              "\n",
              "    .dataframe thead th {\n",
              "        text-align: right;\n",
              "    }\n",
              "</style>\n",
              "<table border=\"1\" class=\"dataframe\">\n",
              "  <thead>\n",
              "    <tr style=\"text-align: right;\">\n",
              "      <th></th>\n",
              "      <th>employer_name</th>\n",
              "      <th>area_cnt</th>\n",
              "    </tr>\n",
              "  </thead>\n",
              "  <tbody>\n",
              "    <tr>\n",
              "      <th>0</th>\n",
              "      <td>Яндекс</td>\n",
              "      <td>181</td>\n",
              "    </tr>\n",
              "    <tr>\n",
              "      <th>1</th>\n",
              "      <td>Ростелеком</td>\n",
              "      <td>152</td>\n",
              "    </tr>\n",
              "    <tr>\n",
              "      <th>2</th>\n",
              "      <td>Спецремонт</td>\n",
              "      <td>116</td>\n",
              "    </tr>\n",
              "    <tr>\n",
              "      <th>3</th>\n",
              "      <td>Поляков Денис Иванович</td>\n",
              "      <td>88</td>\n",
              "    </tr>\n",
              "    <tr>\n",
              "      <th>4</th>\n",
              "      <td>ООО ЕФИН</td>\n",
              "      <td>71</td>\n",
              "    </tr>\n",
              "    <tr>\n",
              "      <th>...</th>\n",
              "      <td>...</td>\n",
              "      <td>...</td>\n",
              "    </tr>\n",
              "    <tr>\n",
              "      <th>14761</th>\n",
              "      <td>UniSol</td>\n",
              "      <td>1</td>\n",
              "    </tr>\n",
              "    <tr>\n",
              "      <th>14762</th>\n",
              "      <td>UNISTORY LLC</td>\n",
              "      <td>1</td>\n",
              "    </tr>\n",
              "    <tr>\n",
              "      <th>14763</th>\n",
              "      <td>UNIT6</td>\n",
              "      <td>1</td>\n",
              "    </tr>\n",
              "    <tr>\n",
              "      <th>14764</th>\n",
              "      <td>United Distribution</td>\n",
              "      <td>1</td>\n",
              "    </tr>\n",
              "    <tr>\n",
              "      <th>14765</th>\n",
              "      <td>UNITEL LLC</td>\n",
              "      <td>1</td>\n",
              "    </tr>\n",
              "  </tbody>\n",
              "</table>\n",
              "<p>14766 rows × 2 columns</p>\n",
              "</div>"
            ],
            "text/plain": [
              "                employer_name  area_cnt\n",
              "0                      Яндекс       181\n",
              "1                  Ростелеком       152\n",
              "2                  Спецремонт       116\n",
              "3      Поляков Денис Иванович        88\n",
              "4                   ООО ЕФИН         71\n",
              "...                       ...       ...\n",
              "14761                  UniSol         1\n",
              "14762            UNISTORY LLC         1\n",
              "14763                   UNIT6         1\n",
              "14764     United Distribution         1\n",
              "14765              UNITEL LLC         1\n",
              "\n",
              "[14766 rows x 2 columns]"
            ]
          },
          "execution_count": 167,
          "metadata": {},
          "output_type": "execute_result"
        }
      ],
      "source": [
        "df = pd.read_sql_query(query_5_3, connection)\n",
        "df"
      ]
    },
    {
      "cell_type": "markdown",
      "id": "eab2206d-d95b-468b-8e5f-34381abf0ce7",
      "metadata": {
        "id": "eab2206d-d95b-468b-8e5f-34381abf0ce7"
      },
      "source": [
        "4. Напишите запрос для подсчёта количества работодателей, у которых не указана сфера деятельности. "
      ]
    },
    {
      "cell_type": "code",
      "execution_count": 168,
      "id": "80defb23-bfb1-4a18-8be6-bf36aa7165d5",
      "metadata": {
        "id": "80defb23-bfb1-4a18-8be6-bf36aa7165d5"
      },
      "outputs": [],
      "source": [
        "query_5_4 = '''select\n",
        "                   count(distinct e.id) - count(distinct i.employer_id) cnt -- разность между всеми работодателями и теми у кого указана сфера деятельности\n",
        "               from employers e\n",
        "                   left join employers_industries i on e.id = i.employer_id\n",
        "            '''"
      ]
    },
    {
      "cell_type": "code",
      "execution_count": 169,
      "id": "Dp_yCx6ysQSu",
      "metadata": {
        "id": "Dp_yCx6ysQSu"
      },
      "outputs": [
        {
          "data": {
            "text/html": [
              "<div>\n",
              "<style scoped>\n",
              "    .dataframe tbody tr th:only-of-type {\n",
              "        vertical-align: middle;\n",
              "    }\n",
              "\n",
              "    .dataframe tbody tr th {\n",
              "        vertical-align: top;\n",
              "    }\n",
              "\n",
              "    .dataframe thead th {\n",
              "        text-align: right;\n",
              "    }\n",
              "</style>\n",
              "<table border=\"1\" class=\"dataframe\">\n",
              "  <thead>\n",
              "    <tr style=\"text-align: right;\">\n",
              "      <th></th>\n",
              "      <th>cnt</th>\n",
              "    </tr>\n",
              "  </thead>\n",
              "  <tbody>\n",
              "    <tr>\n",
              "      <th>0</th>\n",
              "      <td>8419</td>\n",
              "    </tr>\n",
              "  </tbody>\n",
              "</table>\n",
              "</div>"
            ],
            "text/plain": [
              "    cnt\n",
              "0  8419"
            ]
          },
          "execution_count": 169,
          "metadata": {},
          "output_type": "execute_result"
        }
      ],
      "source": [
        "df = pd.read_sql_query(query_5_4, connection)\n",
        "df"
      ]
    },
    {
      "cell_type": "markdown",
      "id": "0112af31-f6b0-4e3b-82ab-71296e752e5e",
      "metadata": {
        "id": "0112af31-f6b0-4e3b-82ab-71296e752e5e"
      },
      "source": [
        "5. Напишите запрос, чтобы узнать название компании, находящейся на третьем месте в алфавитном списке (по названию) компаний, у которых указано четыре сферы деятельности. "
      ]
    },
    {
      "cell_type": "code",
      "execution_count": 170,
      "id": "973b0cfc-a972-470a-8b4a-68744ef220c4",
      "metadata": {
        "id": "973b0cfc-a972-470a-8b4a-68744ef220c4"
      },
      "outputs": [],
      "source": [
        "query_5_5 = '''select\n",
        "                   e.name employer_name,\n",
        "                   count(i.industry_id) industry_cnt\n",
        "               from employers e \n",
        "                   join employers_industries i on e.id = i.employer_id\n",
        "               group by e.name\n",
        "               having count(i.industry_id) = 4  -- фильтр на наличие 4 сфер деятельности\n",
        "               order by 1\n",
        "               offset 2 -- отрезаем первые 2 строки\n",
        "               limit 1 -- выводим 1 строку (изначально 3)\n",
        "            '''"
      ]
    },
    {
      "cell_type": "code",
      "execution_count": 171,
      "id": "xsPtpp8EsaED",
      "metadata": {
        "id": "xsPtpp8EsaED"
      },
      "outputs": [
        {
          "data": {
            "text/html": [
              "<div>\n",
              "<style scoped>\n",
              "    .dataframe tbody tr th:only-of-type {\n",
              "        vertical-align: middle;\n",
              "    }\n",
              "\n",
              "    .dataframe tbody tr th {\n",
              "        vertical-align: top;\n",
              "    }\n",
              "\n",
              "    .dataframe thead th {\n",
              "        text-align: right;\n",
              "    }\n",
              "</style>\n",
              "<table border=\"1\" class=\"dataframe\">\n",
              "  <thead>\n",
              "    <tr style=\"text-align: right;\">\n",
              "      <th></th>\n",
              "      <th>employer_name</th>\n",
              "      <th>industry_cnt</th>\n",
              "    </tr>\n",
              "  </thead>\n",
              "  <tbody>\n",
              "    <tr>\n",
              "      <th>0</th>\n",
              "      <td>2ГИС</td>\n",
              "      <td>4</td>\n",
              "    </tr>\n",
              "  </tbody>\n",
              "</table>\n",
              "</div>"
            ],
            "text/plain": [
              "  employer_name  industry_cnt\n",
              "0          2ГИС             4"
            ]
          },
          "execution_count": 171,
          "metadata": {},
          "output_type": "execute_result"
        }
      ],
      "source": [
        "df = pd.read_sql_query(query_5_5, connection)\n",
        "df"
      ]
    },
    {
      "cell_type": "markdown",
      "id": "3bfcfdaf-755d-4d2b-8ed8-326201dc07ab",
      "metadata": {
        "id": "3bfcfdaf-755d-4d2b-8ed8-326201dc07ab"
      },
      "source": [
        "6. С помощью запроса выясните, у какого количества работодателей в качестве сферы деятельности указана Разработка программного обеспечения.\n"
      ]
    },
    {
      "cell_type": "code",
      "execution_count": 172,
      "id": "ad3f270f-2991-47eb-929b-e8f88a55b0d1",
      "metadata": {
        "id": "ad3f270f-2991-47eb-929b-e8f88a55b0d1"
      },
      "outputs": [],
      "source": [
        "query_5_6 = '''select\n",
        "                   i.name industrie_name,\n",
        "                   count(e.employer_id)\n",
        "               from industries i\n",
        "                   join employers_industries e on i.id = e.industry_id \n",
        "               group by i.name\n",
        "               having i.name = 'Разработка программного обеспечения' -- фильтр после группировки\n",
        "            '''"
      ]
    },
    {
      "cell_type": "code",
      "execution_count": 173,
      "id": "H72qxWM0shPR",
      "metadata": {
        "id": "H72qxWM0shPR"
      },
      "outputs": [
        {
          "data": {
            "text/html": [
              "<div>\n",
              "<style scoped>\n",
              "    .dataframe tbody tr th:only-of-type {\n",
              "        vertical-align: middle;\n",
              "    }\n",
              "\n",
              "    .dataframe tbody tr th {\n",
              "        vertical-align: top;\n",
              "    }\n",
              "\n",
              "    .dataframe thead th {\n",
              "        text-align: right;\n",
              "    }\n",
              "</style>\n",
              "<table border=\"1\" class=\"dataframe\">\n",
              "  <thead>\n",
              "    <tr style=\"text-align: right;\">\n",
              "      <th></th>\n",
              "      <th>industrie_name</th>\n",
              "      <th>count</th>\n",
              "    </tr>\n",
              "  </thead>\n",
              "  <tbody>\n",
              "    <tr>\n",
              "      <th>0</th>\n",
              "      <td>Разработка программного обеспечения</td>\n",
              "      <td>3553</td>\n",
              "    </tr>\n",
              "  </tbody>\n",
              "</table>\n",
              "</div>"
            ],
            "text/plain": [
              "                        industrie_name  count\n",
              "0  Разработка программного обеспечения   3553"
            ]
          },
          "execution_count": 173,
          "metadata": {},
          "output_type": "execute_result"
        }
      ],
      "source": [
        "df = pd.read_sql_query(query_5_6, connection)\n",
        "df"
      ]
    },
    {
      "cell_type": "markdown",
      "id": "7b02bb86-0546-40fb-94a4-242f050a5c57",
      "metadata": {
        "id": "7b02bb86-0546-40fb-94a4-242f050a5c57"
      },
      "source": [
        "7. Для компании «Яндекс» выведите список регионов-миллионников, в которых представлены вакансии компании, вместе с количеством вакансий в этих регионах. Также добавьте строку Total с общим количеством вакансий компании. Результат отсортируйте по возрастанию количества.\n",
        "\n",
        "Список городов-милионников надо взять [отсюда](https://ru.wikipedia.org/wiki/%D0%93%D0%BE%D1%80%D0%BE%D0%B4%D0%B0-%D0%BC%D0%B8%D0%BB%D0%BB%D0%B8%D0%BE%D0%BD%D0%B5%D1%80%D1%8B_%D0%A0%D0%BE%D1%81%D1%81%D0%B8%D0%B8). \n",
        "\n",
        "Если возникнут трудности с этим задание посмотрите материалы модуля  PYTHON-17. Как получать данные из веб-источников и API. "
      ]
    },
    {
      "cell_type": "code",
      "execution_count": 174,
      "id": "ZdfrL6gIs1Pn",
      "metadata": {
        "id": "ZdfrL6gIs1Pn"
      },
      "outputs": [],
      "source": [
        "path_common = req.urlparse('https://ru.wikipedia.org/wiki/Города-миллионеры_России')#Преобразуем относительный URL-адрес \n",
        "url = path_common.scheme + '://' + req.quote(path_common.netloc) + req.quote(path_common.path)#в абсолютный URL-адрес с помощью библиотеки urllib.parse\n",
        "df = pd.read_html(url)[1]#Выбираем таблицу с городами миллионниками\n",
        "million_cities_lst = df['Город'].apply(lambda x: x.replace('[a]', '')).to_list()#Создаём список из столбца с городами, удаляя возможные в строках df ссылки '[a]'\n",
        "million_cities_tpl = tuple(million_cities_lst)#Преобразуем полученный список в кортеж для передачи в строку sql-запроса"
      ]
    },
    {
      "cell_type": "code",
      "execution_count": 175,
      "id": "5a0e32a4-e68a-4365-8a39-2fe24c542c36",
      "metadata": {
        "id": "5a0e32a4-e68a-4365-8a39-2fe24c542c36"
      },
      "outputs": [],
      "source": [
        "query_5_7 = f'''with w as ( -- создаём временную таблицу 'w' городов миллионников с колличеством вакансий 'Яндекс'\n",
        "                select\n",
        "                    a.name region_name, --регионы в которы представлена компания \"Яндекс\"\n",
        "                    count(v.id) count_vacancies --кол-во вакансий \"Яндекса\" в этих регионах\n",
        "                from vacancies v\n",
        "                    join employers e on v.employer_id = e.id -- объединяем таблицы vacancies и employers для фильтрации по 'Яндекс'\n",
        "                    join areas a on v.area_id = a.id -- объединяем таблицы vacancies и areas для группировки по регионам\n",
        "                where e.name = 'Яндекс'\n",
        "                group by a.name\n",
        "                having a.name in {million_cities_tpl} -- фильтруем регионы по списку(корнежу) с городами - миллионниками\n",
        "                order by 2 -- сортируем по возрастанию количества вакансий\n",
        "                )\n",
        "                select * from w union all select 'Total', sum(count_vacancies) from w -- присоединяем снизу к таблице 'w' строку Total\n",
        "            '''"
      ]
    },
    {
      "cell_type": "code",
      "execution_count": 176,
      "id": "ttPhiO1rsvPq",
      "metadata": {
        "id": "ttPhiO1rsvPq"
      },
      "outputs": [
        {
          "data": {
            "text/html": [
              "<div>\n",
              "<style scoped>\n",
              "    .dataframe tbody tr th:only-of-type {\n",
              "        vertical-align: middle;\n",
              "    }\n",
              "\n",
              "    .dataframe tbody tr th {\n",
              "        vertical-align: top;\n",
              "    }\n",
              "\n",
              "    .dataframe thead th {\n",
              "        text-align: right;\n",
              "    }\n",
              "</style>\n",
              "<table border=\"1\" class=\"dataframe\">\n",
              "  <thead>\n",
              "    <tr style=\"text-align: right;\">\n",
              "      <th></th>\n",
              "      <th>region_name</th>\n",
              "      <th>count_vacancies</th>\n",
              "    </tr>\n",
              "  </thead>\n",
              "  <tbody>\n",
              "    <tr>\n",
              "      <th>0</th>\n",
              "      <td>Омск</td>\n",
              "      <td>21.0</td>\n",
              "    </tr>\n",
              "    <tr>\n",
              "      <th>1</th>\n",
              "      <td>Челябинск</td>\n",
              "      <td>22.0</td>\n",
              "    </tr>\n",
              "    <tr>\n",
              "      <th>2</th>\n",
              "      <td>Красноярск</td>\n",
              "      <td>23.0</td>\n",
              "    </tr>\n",
              "    <tr>\n",
              "      <th>3</th>\n",
              "      <td>Волгоград</td>\n",
              "      <td>24.0</td>\n",
              "    </tr>\n",
              "    <tr>\n",
              "      <th>4</th>\n",
              "      <td>Пермь</td>\n",
              "      <td>25.0</td>\n",
              "    </tr>\n",
              "    <tr>\n",
              "      <th>5</th>\n",
              "      <td>Казань</td>\n",
              "      <td>25.0</td>\n",
              "    </tr>\n",
              "    <tr>\n",
              "      <th>6</th>\n",
              "      <td>Ростов-на-Дону</td>\n",
              "      <td>25.0</td>\n",
              "    </tr>\n",
              "    <tr>\n",
              "      <th>7</th>\n",
              "      <td>Уфа</td>\n",
              "      <td>26.0</td>\n",
              "    </tr>\n",
              "    <tr>\n",
              "      <th>8</th>\n",
              "      <td>Самара</td>\n",
              "      <td>26.0</td>\n",
              "    </tr>\n",
              "    <tr>\n",
              "      <th>9</th>\n",
              "      <td>Краснодар</td>\n",
              "      <td>30.0</td>\n",
              "    </tr>\n",
              "    <tr>\n",
              "      <th>10</th>\n",
              "      <td>Воронеж</td>\n",
              "      <td>32.0</td>\n",
              "    </tr>\n",
              "    <tr>\n",
              "      <th>11</th>\n",
              "      <td>Новосибирск</td>\n",
              "      <td>35.0</td>\n",
              "    </tr>\n",
              "    <tr>\n",
              "      <th>12</th>\n",
              "      <td>Нижний Новгород</td>\n",
              "      <td>36.0</td>\n",
              "    </tr>\n",
              "    <tr>\n",
              "      <th>13</th>\n",
              "      <td>Екатеринбург</td>\n",
              "      <td>39.0</td>\n",
              "    </tr>\n",
              "    <tr>\n",
              "      <th>14</th>\n",
              "      <td>Санкт-Петербург</td>\n",
              "      <td>42.0</td>\n",
              "    </tr>\n",
              "    <tr>\n",
              "      <th>15</th>\n",
              "      <td>Москва</td>\n",
              "      <td>54.0</td>\n",
              "    </tr>\n",
              "    <tr>\n",
              "      <th>16</th>\n",
              "      <td>Total</td>\n",
              "      <td>485.0</td>\n",
              "    </tr>\n",
              "  </tbody>\n",
              "</table>\n",
              "</div>"
            ],
            "text/plain": [
              "        region_name  count_vacancies\n",
              "0              Омск             21.0\n",
              "1         Челябинск             22.0\n",
              "2        Красноярск             23.0\n",
              "3         Волгоград             24.0\n",
              "4             Пермь             25.0\n",
              "5            Казань             25.0\n",
              "6    Ростов-на-Дону             25.0\n",
              "7               Уфа             26.0\n",
              "8            Самара             26.0\n",
              "9         Краснодар             30.0\n",
              "10          Воронеж             32.0\n",
              "11      Новосибирск             35.0\n",
              "12  Нижний Новгород             36.0\n",
              "13     Екатеринбург             39.0\n",
              "14  Санкт-Петербург             42.0\n",
              "15           Москва             54.0\n",
              "16            Total            485.0"
            ]
          },
          "execution_count": 176,
          "metadata": {},
          "output_type": "execute_result"
        }
      ],
      "source": [
        "df = pd.read_sql_query(query_5_7, connection)\n",
        "df"
      ]
    },
    {
      "cell_type": "markdown",
      "id": "04966e40-3bc3-4dc8-9ba2-e80580ce3abc",
      "metadata": {
        "id": "04966e40-3bc3-4dc8-9ba2-e80580ce3abc"
      },
      "source": [
        "***"
      ]
    },
    {
      "attachments": {},
      "cell_type": "markdown",
      "id": "769fbcc1",
      "metadata": {},
      "source": [
        "# Дополнительный анализ"
      ]
    },
    {
      "attachments": {},
      "cell_type": "markdown",
      "id": "2214f37b",
      "metadata": {},
      "source": [
        "8. Узнаем ТОП-10 работодателей с наибольшим числом вакансий "
      ]
    },
    {
      "cell_type": "code",
      "execution_count": 177,
      "id": "195f9835",
      "metadata": {},
      "outputs": [],
      "source": [
        "query_5_8 = '''select  \n",
        "                   e.name,\n",
        "                   count(v.id) cnt\n",
        "               from employers e\n",
        "                   join vacancies v on e.id = v.employer_id\n",
        "               group by e.name -- группируем по иерархии и имени работодателя\n",
        "               order by cnt desc -- сортируем по убыванию\n",
        "               limit 10\n",
        "            '''"
      ]
    },
    {
      "cell_type": "code",
      "execution_count": 178,
      "id": "bf6f1ca7",
      "metadata": {},
      "outputs": [
        {
          "data": {
            "text/html": [
              "<div>\n",
              "<style scoped>\n",
              "    .dataframe tbody tr th:only-of-type {\n",
              "        vertical-align: middle;\n",
              "    }\n",
              "\n",
              "    .dataframe tbody tr th {\n",
              "        vertical-align: top;\n",
              "    }\n",
              "\n",
              "    .dataframe thead th {\n",
              "        text-align: right;\n",
              "    }\n",
              "</style>\n",
              "<table border=\"1\" class=\"dataframe\">\n",
              "  <thead>\n",
              "    <tr style=\"text-align: right;\">\n",
              "      <th></th>\n",
              "      <th>name</th>\n",
              "      <th>cnt</th>\n",
              "    </tr>\n",
              "  </thead>\n",
              "  <tbody>\n",
              "    <tr>\n",
              "      <th>0</th>\n",
              "      <td>Яндекс</td>\n",
              "      <td>1933</td>\n",
              "    </tr>\n",
              "    <tr>\n",
              "      <th>1</th>\n",
              "      <td>Ростелеком</td>\n",
              "      <td>491</td>\n",
              "    </tr>\n",
              "    <tr>\n",
              "      <th>2</th>\n",
              "      <td>Тинькофф</td>\n",
              "      <td>444</td>\n",
              "    </tr>\n",
              "    <tr>\n",
              "      <th>3</th>\n",
              "      <td>СБЕР</td>\n",
              "      <td>428</td>\n",
              "    </tr>\n",
              "    <tr>\n",
              "      <th>4</th>\n",
              "      <td>Газпром нефть</td>\n",
              "      <td>331</td>\n",
              "    </tr>\n",
              "    <tr>\n",
              "      <th>5</th>\n",
              "      <td>ИК СИБИНТЕК</td>\n",
              "      <td>327</td>\n",
              "    </tr>\n",
              "    <tr>\n",
              "      <th>6</th>\n",
              "      <td>МТС</td>\n",
              "      <td>292</td>\n",
              "    </tr>\n",
              "    <tr>\n",
              "      <th>7</th>\n",
              "      <td>DataArt</td>\n",
              "      <td>247</td>\n",
              "    </tr>\n",
              "    <tr>\n",
              "      <th>8</th>\n",
              "      <td>Совкомбанк Технологии</td>\n",
              "      <td>204</td>\n",
              "    </tr>\n",
              "    <tr>\n",
              "      <th>9</th>\n",
              "      <td>Первый Бит</td>\n",
              "      <td>176</td>\n",
              "    </tr>\n",
              "  </tbody>\n",
              "</table>\n",
              "</div>"
            ],
            "text/plain": [
              "                    name   cnt\n",
              "0                 Яндекс  1933\n",
              "1             Ростелеком   491\n",
              "2               Тинькофф   444\n",
              "3                   СБЕР   428\n",
              "4          Газпром нефть   331\n",
              "5            ИК СИБИНТЕК   327\n",
              "6                    МТС   292\n",
              "7                DataArt   247\n",
              "8  Совкомбанк Технологии   204\n",
              "9             Первый Бит   176"
            ]
          },
          "execution_count": 178,
          "metadata": {},
          "output_type": "execute_result"
        }
      ],
      "source": [
        "df = pd.read_sql_query(query_5_8, connection)\n",
        "df"
      ]
    },
    {
      "attachments": {},
      "cell_type": "markdown",
      "id": "fb128ac3",
      "metadata": {},
      "source": [
        "9. Узнаем ТОП-5 работодателей с наибольшим числом вакансий на удалёнке"
      ]
    },
    {
      "cell_type": "code",
      "execution_count": 179,
      "id": "0784c122",
      "metadata": {},
      "outputs": [],
      "source": [
        "query_5_9 = '''select \n",
        "                   e.name,\n",
        "                   count(v.schedule) cnt\n",
        "               from employers e \n",
        "                   join vacancies v on e.id = v.employer_id\n",
        "               where v.schedule = 'Удаленная работа'\n",
        "               group by e.name\n",
        "               order by cnt desc\n",
        "               limit 5\n",
        "            '''"
      ]
    },
    {
      "cell_type": "code",
      "execution_count": 180,
      "id": "45549bdf",
      "metadata": {},
      "outputs": [
        {
          "data": {
            "text/html": [
              "<div>\n",
              "<style scoped>\n",
              "    .dataframe tbody tr th:only-of-type {\n",
              "        vertical-align: middle;\n",
              "    }\n",
              "\n",
              "    .dataframe tbody tr th {\n",
              "        vertical-align: top;\n",
              "    }\n",
              "\n",
              "    .dataframe thead th {\n",
              "        text-align: right;\n",
              "    }\n",
              "</style>\n",
              "<table border=\"1\" class=\"dataframe\">\n",
              "  <thead>\n",
              "    <tr style=\"text-align: right;\">\n",
              "      <th></th>\n",
              "      <th>name</th>\n",
              "      <th>cnt</th>\n",
              "    </tr>\n",
              "  </thead>\n",
              "  <tbody>\n",
              "    <tr>\n",
              "      <th>0</th>\n",
              "      <td>Яндекс</td>\n",
              "      <td>1690</td>\n",
              "    </tr>\n",
              "    <tr>\n",
              "      <th>1</th>\n",
              "      <td>DataArt</td>\n",
              "      <td>165</td>\n",
              "    </tr>\n",
              "    <tr>\n",
              "      <th>2</th>\n",
              "      <td>Тинькофф</td>\n",
              "      <td>95</td>\n",
              "    </tr>\n",
              "    <tr>\n",
              "      <th>3</th>\n",
              "      <td>Nitka Technologies</td>\n",
              "      <td>77</td>\n",
              "    </tr>\n",
              "    <tr>\n",
              "      <th>4</th>\n",
              "      <td>ООО ЕФИН</td>\n",
              "      <td>71</td>\n",
              "    </tr>\n",
              "  </tbody>\n",
              "</table>\n",
              "</div>"
            ],
            "text/plain": [
              "                 name   cnt\n",
              "0              Яндекс  1690\n",
              "1             DataArt   165\n",
              "2            Тинькофф    95\n",
              "3  Nitka Technologies    77\n",
              "4           ООО ЕФИН     71"
            ]
          },
          "execution_count": 180,
          "metadata": {},
          "output_type": "execute_result"
        }
      ],
      "source": [
        "df = pd.read_sql_query(query_5_9, connection)\n",
        "df"
      ]
    },
    {
      "attachments": {},
      "cell_type": "markdown",
      "id": "19613aa9",
      "metadata": {},
      "source": [
        "10. Запрос на распределение компаний по числу сфер деятельности"
      ]
    },
    {
      "cell_type": "code",
      "execution_count": 181,
      "id": "9de62065",
      "metadata": {},
      "outputs": [],
      "source": [
        "query_5_10 = '''select\n",
        "                    e.name employer_name,\n",
        "                    count(i.industry_id) industry_cnt\n",
        "\n",
        "                from employers e \n",
        "                    join employers_industries i on e.id = i.employer_id\n",
        "\n",
        "                group by e.name\n",
        "                order by industry_cnt desc \n",
        "             \n",
        "             '''"
      ]
    },
    {
      "cell_type": "code",
      "execution_count": 182,
      "id": "26858ca6",
      "metadata": {},
      "outputs": [
        {
          "data": {
            "text/html": [
              "<div>\n",
              "<style scoped>\n",
              "    .dataframe tbody tr th:only-of-type {\n",
              "        vertical-align: middle;\n",
              "    }\n",
              "\n",
              "    .dataframe tbody tr th {\n",
              "        vertical-align: top;\n",
              "    }\n",
              "\n",
              "    .dataframe thead th {\n",
              "        text-align: right;\n",
              "    }\n",
              "</style>\n",
              "<table border=\"1\" class=\"dataframe\">\n",
              "  <thead>\n",
              "    <tr style=\"text-align: right;\">\n",
              "      <th></th>\n",
              "      <th>employer_name</th>\n",
              "      <th>industry_cnt</th>\n",
              "    </tr>\n",
              "  </thead>\n",
              "  <tbody>\n",
              "    <tr>\n",
              "      <th>0</th>\n",
              "      <td>Модуль</td>\n",
              "      <td>16</td>\n",
              "    </tr>\n",
              "    <tr>\n",
              "      <th>1</th>\n",
              "      <td>Простые решения</td>\n",
              "      <td>11</td>\n",
              "    </tr>\n",
              "    <tr>\n",
              "      <th>2</th>\n",
              "      <td>Прайд</td>\n",
              "      <td>10</td>\n",
              "    </tr>\n",
              "    <tr>\n",
              "      <th>3</th>\n",
              "      <td>Энергия</td>\n",
              "      <td>10</td>\n",
              "    </tr>\n",
              "    <tr>\n",
              "      <th>4</th>\n",
              "      <td>Эксперт</td>\n",
              "      <td>9</td>\n",
              "    </tr>\n",
              "    <tr>\n",
              "      <th>...</th>\n",
              "      <td>...</td>\n",
              "      <td>...</td>\n",
              "    </tr>\n",
              "    <tr>\n",
              "      <th>14951</th>\n",
              "      <td>EXE.CTLY</td>\n",
              "      <td>1</td>\n",
              "    </tr>\n",
              "    <tr>\n",
              "      <th>14952</th>\n",
              "      <td>Инмет</td>\n",
              "      <td>1</td>\n",
              "    </tr>\n",
              "    <tr>\n",
              "      <th>14953</th>\n",
              "      <td>Группа компаний Перемена</td>\n",
              "      <td>1</td>\n",
              "    </tr>\n",
              "    <tr>\n",
              "      <th>14954</th>\n",
              "      <td>QALANKZ</td>\n",
              "      <td>1</td>\n",
              "    </tr>\n",
              "    <tr>\n",
              "      <th>14955</th>\n",
              "      <td>Телевокс</td>\n",
              "      <td>1</td>\n",
              "    </tr>\n",
              "  </tbody>\n",
              "</table>\n",
              "<p>14956 rows × 2 columns</p>\n",
              "</div>"
            ],
            "text/plain": [
              "                  employer_name  industry_cnt\n",
              "0                        Модуль            16\n",
              "1               Простые решения            11\n",
              "2                         Прайд            10\n",
              "3                       Энергия            10\n",
              "4                       Эксперт             9\n",
              "...                         ...           ...\n",
              "14951                  EXE.CTLY             1\n",
              "14952                     Инмет             1\n",
              "14953  Группа компаний Перемена             1\n",
              "14954                   QALANKZ             1\n",
              "14955                  Телевокс             1\n",
              "\n",
              "[14956 rows x 2 columns]"
            ]
          },
          "execution_count": 182,
          "metadata": {},
          "output_type": "execute_result"
        }
      ],
      "source": [
        "df = pd.read_sql_query(query_5_10, connection)\n",
        "df"
      ]
    },
    {
      "attachments": {},
      "cell_type": "markdown",
      "id": "8413ad60",
      "metadata": {},
      "source": [
        "**Выводы по анализу работодателей:**  \n",
        "* По количеству вакансий лидирует \"Яндекс\" - 1933 вакансии, это примерно 4% от общего количества, что не удивительно, ведь компания - номер один в рускоязычном секторе интернета, охватывающего многомиллионую (видимо самую большую) аудиторию. Основная сфера деятельности позволяет иметь достаточно большой штат сотрудников на \"удаленке\" (1690 вакансий) в различных регионах и даже странах.  \n",
        "* Среди регионов попадаются те в которых нет вакансий, но есть работодатели. Видимо таблицы в базе созданы на долгий период и систематически обновляются.   \n",
        "* По количеству регионов в которых размещены вакансии компании, ожидаемо лидирует \"Яндекс\" (181 регион), на втором месте компания \"Ростелеком\" (152). Ведь география рускоязычного интернета гораздо шире сферы услуг \"Ростелекома\".\n",
        "* На примере распределения вакансий по регионам для \"Яндекс\" хорошо прослеживается кореляция количества рабочих мест с населением и статусностью регионов.  \n",
        "* Около 40% работодателей не указывает сферу деятельности. Это несколько усложняет предварительный анализ вакансии.   \n",
        "* 3553 компаний, занимающихся разработкой ПО."
      ]
    },
    {
      "cell_type": "markdown",
      "id": "b1ef156a-efcb-49ce-bb23-90763e7f35b2",
      "metadata": {
        "id": "b1ef156a-efcb-49ce-bb23-90763e7f35b2",
        "tags": []
      },
      "source": [
        "# Юнит 6. Предметный анализ"
      ]
    },
    {
      "cell_type": "markdown",
      "id": "b9cd50a0-992d-4988-8463-2b2b1c4629b4",
      "metadata": {
        "id": "b9cd50a0-992d-4988-8463-2b2b1c4629b4"
      },
      "source": [
        "1. Сколько вакансий имеет отношение к данным?\n",
        "\n",
        "Считаем, что вакансия имеет отношение к данным, если в её названии содержатся слова 'data' или 'данн'.\n",
        "\n",
        "*Подсказка: Обратите внимание, что названия вакансий могут быть написаны в любом регистре.* \n"
      ]
    },
    {
      "cell_type": "code",
      "execution_count": 183,
      "id": "54ab0e50-c0f1-47cc-a54b-bc5c8bc363f9",
      "metadata": {
        "id": "54ab0e50-c0f1-47cc-a54b-bc5c8bc363f9"
      },
      "outputs": [],
      "source": [
        "query_6_1 = '''select\n",
        "                   count(name) count_vacancies_related_to_data\n",
        "               from vacancies \n",
        "               where lower(name) like '%data%' or lower(name) like '%данн%'\n",
        "            '''"
      ]
    },
    {
      "cell_type": "code",
      "execution_count": 184,
      "id": "9F1meAqsuUjd",
      "metadata": {
        "id": "9F1meAqsuUjd"
      },
      "outputs": [
        {
          "data": {
            "text/html": [
              "<div>\n",
              "<style scoped>\n",
              "    .dataframe tbody tr th:only-of-type {\n",
              "        vertical-align: middle;\n",
              "    }\n",
              "\n",
              "    .dataframe tbody tr th {\n",
              "        vertical-align: top;\n",
              "    }\n",
              "\n",
              "    .dataframe thead th {\n",
              "        text-align: right;\n",
              "    }\n",
              "</style>\n",
              "<table border=\"1\" class=\"dataframe\">\n",
              "  <thead>\n",
              "    <tr style=\"text-align: right;\">\n",
              "      <th></th>\n",
              "      <th>count_vacancies_related_to_data</th>\n",
              "    </tr>\n",
              "  </thead>\n",
              "  <tbody>\n",
              "    <tr>\n",
              "      <th>0</th>\n",
              "      <td>1771</td>\n",
              "    </tr>\n",
              "  </tbody>\n",
              "</table>\n",
              "</div>"
            ],
            "text/plain": [
              "   count_vacancies_related_to_data\n",
              "0                             1771"
            ]
          },
          "execution_count": 184,
          "metadata": {},
          "output_type": "execute_result"
        }
      ],
      "source": [
        "df = pd.read_sql_query(query_6_1, connection)\n",
        "df"
      ]
    },
    {
      "attachments": {},
      "cell_type": "markdown",
      "id": "4dea20cb-a36b-474a-a0b9-e08e8e3857a5",
      "metadata": {
        "id": "4dea20cb-a36b-474a-a0b9-e08e8e3857a5"
      },
      "source": [
        "2. Сколько есть подходящих вакансий для начинающего дата-сайентиста? \n",
        "Будем считать вакансиями для дата-сайентистов такие, в названии которых есть хотя бы одно из следующих сочетаний:\n",
        "* 'data scientist'\n",
        "* 'data science'\n",
        "* 'исследователь данных'\n",
        "* 'ML' (здесь не нужно брать вакансии по HTML)\n",
        "* 'machine learning'\n",
        "* 'машинн%обучен%'\n",
        "\n",
        "**В следующих заданиях мы продолжим работать с вакансиями по этому условию.**\n",
        "\n",
        "Считаем вакансиями для специалистов уровня Junior следующие:\n",
        "* в названии есть слово 'junior' *или*\n",
        "* требуемый опыт — Нет опыта *или*\n",
        "* тип трудоустройства — Стажировка.\n",
        " "
      ]
    },
    {
      "cell_type": "code",
      "execution_count": 185,
      "id": "9c61b3c0-bb66-46c9-ae1e-81d3f5752b4a",
      "metadata": {
        "id": "9c61b3c0-bb66-46c9-ae1e-81d3f5752b4a"
      },
      "outputs": [],
      "source": [
        "query_6_2 = '''select\n",
        "                   count(name) count_vacancies_for_junior\n",
        "               from vacancies \n",
        "               where ( -- фильтр вакансий для дата-саентистов\n",
        "               name ilike '%data scientist%' or \n",
        "               name ilike '%data science%' or \n",
        "               name ilike '%исследователь данных%' or\n",
        "               name ilike '%machine learning%' or \n",
        "               name ilike '%машинн%обучен%' or \n",
        "               name like '%ML%' and name not like '%HTML%'\n",
        "               ) and \n",
        "               ( -- фильтр для начинающих IT-шников\n",
        "               name ilike '%junior%' or \n",
        "               experience = 'Нет опыта' or \n",
        "               employment = 'Стажировка'\n",
        "               )\n",
        "            '''"
      ]
    },
    {
      "cell_type": "code",
      "execution_count": 186,
      "id": "ZNM-LLYuu1dj",
      "metadata": {
        "id": "ZNM-LLYuu1dj"
      },
      "outputs": [
        {
          "data": {
            "text/html": [
              "<div>\n",
              "<style scoped>\n",
              "    .dataframe tbody tr th:only-of-type {\n",
              "        vertical-align: middle;\n",
              "    }\n",
              "\n",
              "    .dataframe tbody tr th {\n",
              "        vertical-align: top;\n",
              "    }\n",
              "\n",
              "    .dataframe thead th {\n",
              "        text-align: right;\n",
              "    }\n",
              "</style>\n",
              "<table border=\"1\" class=\"dataframe\">\n",
              "  <thead>\n",
              "    <tr style=\"text-align: right;\">\n",
              "      <th></th>\n",
              "      <th>count_vacancies_for_junior</th>\n",
              "    </tr>\n",
              "  </thead>\n",
              "  <tbody>\n",
              "    <tr>\n",
              "      <th>0</th>\n",
              "      <td>51</td>\n",
              "    </tr>\n",
              "  </tbody>\n",
              "</table>\n",
              "</div>"
            ],
            "text/plain": [
              "   count_vacancies_for_junior\n",
              "0                          51"
            ]
          },
          "execution_count": 186,
          "metadata": {},
          "output_type": "execute_result"
        }
      ],
      "source": [
        "df = pd.read_sql_query(query_6_2, connection)\n",
        "df"
      ]
    },
    {
      "attachments": {},
      "cell_type": "markdown",
      "id": "eedceb80-c5ca-480e-b27a-278dfb8b4438",
      "metadata": {
        "id": "eedceb80-c5ca-480e-b27a-278dfb8b4438"
      },
      "source": [
        "3. Сколько есть вакансий для DS, в которых в качестве ключевого навыка указан SQL или postgres?\n",
        "\n",
        "**Критерии для отнесения вакансии к DS указаны в предыдущем задании.**"
      ]
    },
    {
      "cell_type": "code",
      "execution_count": 187,
      "id": "69621713-0cc5-4f1b-a1d7-bb144fa6148c",
      "metadata": {
        "id": "69621713-0cc5-4f1b-a1d7-bb144fa6148c"
      },
      "outputs": [],
      "source": [
        "query_6_3 = '''select\n",
        "                   count(key_skills) count_vacancies_with_sql_or_postgres\n",
        "               from vacancies\n",
        "               where (\n",
        "               name ilike '%data scientist%' or \n",
        "               name ilike '%data science%' or \n",
        "               name ilike '%исследователь данных%' or\n",
        "               name ilike '%machine learning%' or \n",
        "               name ilike '%машинн%обучен%' or \n",
        "               name like '%ML%' and name not like '%HTML%'\n",
        "               ) and \n",
        "               ( -- фильтр для навыков SQL или postgres\n",
        "               key_skills ilike '%SQL%' or\n",
        "               key_skills ilike '%postgres%' \n",
        "               )\n",
        "            '''"
      ]
    },
    {
      "cell_type": "code",
      "execution_count": 188,
      "id": "alA8WEAAvGdf",
      "metadata": {
        "id": "alA8WEAAvGdf"
      },
      "outputs": [
        {
          "data": {
            "text/html": [
              "<div>\n",
              "<style scoped>\n",
              "    .dataframe tbody tr th:only-of-type {\n",
              "        vertical-align: middle;\n",
              "    }\n",
              "\n",
              "    .dataframe tbody tr th {\n",
              "        vertical-align: top;\n",
              "    }\n",
              "\n",
              "    .dataframe thead th {\n",
              "        text-align: right;\n",
              "    }\n",
              "</style>\n",
              "<table border=\"1\" class=\"dataframe\">\n",
              "  <thead>\n",
              "    <tr style=\"text-align: right;\">\n",
              "      <th></th>\n",
              "      <th>count_vacancies_with_sql_or_postgres</th>\n",
              "    </tr>\n",
              "  </thead>\n",
              "  <tbody>\n",
              "    <tr>\n",
              "      <th>0</th>\n",
              "      <td>201</td>\n",
              "    </tr>\n",
              "  </tbody>\n",
              "</table>\n",
              "</div>"
            ],
            "text/plain": [
              "   count_vacancies_with_sql_or_postgres\n",
              "0                                   201"
            ]
          },
          "execution_count": 188,
          "metadata": {},
          "output_type": "execute_result"
        }
      ],
      "source": [
        "df = pd.read_sql_query(query_6_3, connection)\n",
        "df"
      ]
    },
    {
      "attachments": {},
      "cell_type": "markdown",
      "id": "1be1e9c6-37cf-4a5f-bfeb-04cab799dc80",
      "metadata": {
        "id": "1be1e9c6-37cf-4a5f-bfeb-04cab799dc80"
      },
      "source": [
        "4. Проверьте, насколько популярен Python в требованиях работодателей к DS.Для этого вычислите количество вакансий, в которых в качестве ключевого навыка указан Python.\n",
        "\n",
        "**Это можно сделать помощью запроса, аналогичного предыдущему.**"
      ]
    },
    {
      "cell_type": "code",
      "execution_count": 189,
      "id": "0036a355-9ccf-4564-8b01-73d8194297e7",
      "metadata": {
        "id": "0036a355-9ccf-4564-8b01-73d8194297e7"
      },
      "outputs": [],
      "source": [
        "query_6_4 = '''select\n",
        "                   count(key_skills) count_vacancies_with_python\n",
        "               from vacancies\n",
        "               where (\n",
        "               name ilike '%data scientist%' or \n",
        "               name ilike '%data science%' or \n",
        "               name ilike '%исследователь данных%' or\n",
        "               name ilike '%machine learning%' or \n",
        "               name ilike '%машинн%обучен%' or \n",
        "               name like '%ML%' and name not like '%HTML%'\n",
        "               ) and key_skills ilike '%Python%' -- фильтр для ключевого навыка - 'Python'\n",
        "            '''"
      ]
    },
    {
      "cell_type": "code",
      "execution_count": 190,
      "id": "1i-5WyucvQ6v",
      "metadata": {
        "id": "1i-5WyucvQ6v"
      },
      "outputs": [
        {
          "data": {
            "text/html": [
              "<div>\n",
              "<style scoped>\n",
              "    .dataframe tbody tr th:only-of-type {\n",
              "        vertical-align: middle;\n",
              "    }\n",
              "\n",
              "    .dataframe tbody tr th {\n",
              "        vertical-align: top;\n",
              "    }\n",
              "\n",
              "    .dataframe thead th {\n",
              "        text-align: right;\n",
              "    }\n",
              "</style>\n",
              "<table border=\"1\" class=\"dataframe\">\n",
              "  <thead>\n",
              "    <tr style=\"text-align: right;\">\n",
              "      <th></th>\n",
              "      <th>count_vacancies_with_python</th>\n",
              "    </tr>\n",
              "  </thead>\n",
              "  <tbody>\n",
              "    <tr>\n",
              "      <th>0</th>\n",
              "      <td>351</td>\n",
              "    </tr>\n",
              "  </tbody>\n",
              "</table>\n",
              "</div>"
            ],
            "text/plain": [
              "   count_vacancies_with_python\n",
              "0                          351"
            ]
          },
          "execution_count": 190,
          "metadata": {},
          "output_type": "execute_result"
        }
      ],
      "source": [
        "df = pd.read_sql_query(query_6_4, connection)\n",
        "df"
      ]
    },
    {
      "cell_type": "markdown",
      "id": "ec3c8db7-fa21-4a41-a994-1af63742a642",
      "metadata": {
        "id": "ec3c8db7-fa21-4a41-a994-1af63742a642"
      },
      "source": [
        "5. Сколько ключевых навыков в среднем указывают в вакансиях для DS?\n",
        "Ответ округлите до двух знаков после точки-разделителя."
      ]
    },
    {
      "cell_type": "code",
      "execution_count": 191,
      "id": "949132bc-d5b6-4611-8218-0b9a504d74f4",
      "metadata": {
        "id": "949132bc-d5b6-4611-8218-0b9a504d74f4"
      },
      "outputs": [],
      "source": [
        "query_6_5 = '''select\n",
        "                   round(avg(length(key_skills) -- количество навыков в строке определяем по разности длины строки с длиной строки без разделителей + 1\n",
        "                         -length(replace(key_skills, CHR(9), '')) +1), 2) avg_count_key_skills\n",
        "               from vacancies\n",
        "               where (\n",
        "               name ilike '%data scientist%' or \n",
        "               name ilike '%data science%' or \n",
        "               name ilike '%исследователь данных%' or\n",
        "               name ilike '%machine learning%' or \n",
        "               name ilike '%машинн%обучен%' or \n",
        "               name like '%ML%' and name not like '%HTML%'\n",
        "               )  \n",
        "            '''"
      ]
    },
    {
      "cell_type": "code",
      "execution_count": 192,
      "id": "a3V24Tvmviqk",
      "metadata": {
        "id": "a3V24Tvmviqk"
      },
      "outputs": [
        {
          "data": {
            "text/html": [
              "<div>\n",
              "<style scoped>\n",
              "    .dataframe tbody tr th:only-of-type {\n",
              "        vertical-align: middle;\n",
              "    }\n",
              "\n",
              "    .dataframe tbody tr th {\n",
              "        vertical-align: top;\n",
              "    }\n",
              "\n",
              "    .dataframe thead th {\n",
              "        text-align: right;\n",
              "    }\n",
              "</style>\n",
              "<table border=\"1\" class=\"dataframe\">\n",
              "  <thead>\n",
              "    <tr style=\"text-align: right;\">\n",
              "      <th></th>\n",
              "      <th>avg_count_key_skills</th>\n",
              "    </tr>\n",
              "  </thead>\n",
              "  <tbody>\n",
              "    <tr>\n",
              "      <th>0</th>\n",
              "      <td>6.41</td>\n",
              "    </tr>\n",
              "  </tbody>\n",
              "</table>\n",
              "</div>"
            ],
            "text/plain": [
              "   avg_count_key_skills\n",
              "0                  6.41"
            ]
          },
          "execution_count": 192,
          "metadata": {},
          "output_type": "execute_result"
        }
      ],
      "source": [
        "df = pd.read_sql_query(query_6_5, connection)\n",
        "df"
      ]
    },
    {
      "cell_type": "markdown",
      "id": "1041c17a-ca8f-4543-a0ca-32778914fb00",
      "metadata": {
        "id": "1041c17a-ca8f-4543-a0ca-32778914fb00"
      },
      "source": [
        "6. Напишите запрос, позволяющий вычислить, какую зарплату для DS в **среднем** указывают для каждого типа требуемого опыта (уникальное значение из поля *experience*). \n",
        "\n",
        "При решении задачи примите во внимание следующее:\n",
        "1. Рассматриваем только вакансии, у которых заполнено хотя бы одно из двух полей с зарплатой.\n",
        "2. Если заполнены оба поля с зарплатой, то считаем зарплату по каждой вакансии как сумму двух полей, делённую на 2. Если заполнено только одно из полей, то его и считаем зарплатой по вакансии.\n",
        "3. Если в расчётах участвует null, в результате он тоже даст null (посмотрите, что возвращает запрос select 1 + null). Чтобы избежать этой ситуацию, мы воспользуемся функцией [coalesce](https://postgrespro.ru/docs/postgresql/9.5/functions-conditional#functions-coalesce-nvl-ifnull), которая заменит null на значение, которое мы передадим. Например, посмотрите, что возвращает запрос `select 1 + coalesce(null, 0)`\n",
        "\n",
        "Выясните, на какую зарплату в среднем может рассчитывать дата-сайентист с опытом работы от 3 до 6 лет. Результат округлите до целого числа. "
      ]
    },
    {
      "cell_type": "code",
      "execution_count": 193,
      "id": "6a743d39-5204-48d3-8271-b9f88e68d40e",
      "metadata": {
        "id": "6a743d39-5204-48d3-8271-b9f88e68d40e"
      },
      "outputs": [],
      "source": [
        "query_6_6 = '''select\n",
        "                   distinct experience, -- уникальные значения требуемого опыта\n",
        "                   -- с помощью функции coalesce() выполняем п.2 условия\n",
        "                   round(avg(( coalesce(salary_to, salary_from) +  coalesce(salary_from, salary_to))/2)) salary_average \n",
        "               from vacancies\n",
        "               where (\n",
        "               name ilike '%data scientist%' or \n",
        "               name ilike '%data science%' or \n",
        "               name ilike '%исследователь данных%' or\n",
        "               name ilike '%machine learning%' or \n",
        "               name ilike '%машинн%обучен%' or \n",
        "               name like '%ML%' and name not like '%HTML%'\n",
        "               ) and (salary_to is not null or salary_from is not null) -- фильтр двух полей без зарплаты\n",
        "               group by experience\n",
        "            '''"
      ]
    },
    {
      "cell_type": "code",
      "execution_count": 194,
      "id": "aRIJ0mZEwU1_",
      "metadata": {
        "id": "aRIJ0mZEwU1_"
      },
      "outputs": [
        {
          "data": {
            "text/html": [
              "<div>\n",
              "<style scoped>\n",
              "    .dataframe tbody tr th:only-of-type {\n",
              "        vertical-align: middle;\n",
              "    }\n",
              "\n",
              "    .dataframe tbody tr th {\n",
              "        vertical-align: top;\n",
              "    }\n",
              "\n",
              "    .dataframe thead th {\n",
              "        text-align: right;\n",
              "    }\n",
              "</style>\n",
              "<table border=\"1\" class=\"dataframe\">\n",
              "  <thead>\n",
              "    <tr style=\"text-align: right;\">\n",
              "      <th></th>\n",
              "      <th>experience</th>\n",
              "      <th>salary_average</th>\n",
              "    </tr>\n",
              "  </thead>\n",
              "  <tbody>\n",
              "    <tr>\n",
              "      <th>0</th>\n",
              "      <td>Нет опыта</td>\n",
              "      <td>74643.0</td>\n",
              "    </tr>\n",
              "    <tr>\n",
              "      <th>1</th>\n",
              "      <td>От 1 года до 3 лет</td>\n",
              "      <td>139675.0</td>\n",
              "    </tr>\n",
              "    <tr>\n",
              "      <th>2</th>\n",
              "      <td>От 3 до 6 лет</td>\n",
              "      <td>243115.0</td>\n",
              "    </tr>\n",
              "  </tbody>\n",
              "</table>\n",
              "</div>"
            ],
            "text/plain": [
              "           experience  salary_average\n",
              "0           Нет опыта         74643.0\n",
              "1  От 1 года до 3 лет        139675.0\n",
              "2       От 3 до 6 лет        243115.0"
            ]
          },
          "execution_count": 194,
          "metadata": {},
          "output_type": "execute_result"
        }
      ],
      "source": [
        "df = pd.read_sql_query(query_6_6, connection)\n",
        "df"
      ]
    },
    {
      "attachments": {},
      "cell_type": "markdown",
      "id": "338bc8c0",
      "metadata": {},
      "source": [
        "# Дополнительный анализ"
      ]
    },
    {
      "attachments": {},
      "cell_type": "markdown",
      "id": "e553c53b",
      "metadata": {},
      "source": [
        "7. Выясним, сколько всего вакансий для дата - саентистов?"
      ]
    },
    {
      "cell_type": "code",
      "execution_count": 195,
      "id": "3bb192a0",
      "metadata": {},
      "outputs": [],
      "source": [
        "query_6_7 = '''select\n",
        "                   count(*) cnt_vacancies_for_DS\n",
        "               from vacancies \n",
        "               where ( -- фильтр вакансий для дата-саентистов\n",
        "               name ilike '%data scientist%' or \n",
        "               name ilike '%data science%' or \n",
        "               name ilike '%исследователь данных%' or\n",
        "               name ilike '%machine learning%' or \n",
        "               name ilike '%машинн%обучен%' or \n",
        "               name like '%ML%' and name not like '%HTML%'\n",
        "               ) \n",
        "            '''"
      ]
    },
    {
      "cell_type": "code",
      "execution_count": 196,
      "id": "6e01ec8f",
      "metadata": {},
      "outputs": [
        {
          "data": {
            "text/html": [
              "<div>\n",
              "<style scoped>\n",
              "    .dataframe tbody tr th:only-of-type {\n",
              "        vertical-align: middle;\n",
              "    }\n",
              "\n",
              "    .dataframe tbody tr th {\n",
              "        vertical-align: top;\n",
              "    }\n",
              "\n",
              "    .dataframe thead th {\n",
              "        text-align: right;\n",
              "    }\n",
              "</style>\n",
              "<table border=\"1\" class=\"dataframe\">\n",
              "  <thead>\n",
              "    <tr style=\"text-align: right;\">\n",
              "      <th></th>\n",
              "      <th>cnt_vacancies_for_ds</th>\n",
              "    </tr>\n",
              "  </thead>\n",
              "  <tbody>\n",
              "    <tr>\n",
              "      <th>0</th>\n",
              "      <td>480</td>\n",
              "    </tr>\n",
              "  </tbody>\n",
              "</table>\n",
              "</div>"
            ],
            "text/plain": [
              "   cnt_vacancies_for_ds\n",
              "0                   480"
            ]
          },
          "execution_count": 196,
          "metadata": {},
          "output_type": "execute_result"
        }
      ],
      "source": [
        "df = pd.read_sql_query(query_6_7, connection)\n",
        "df"
      ]
    },
    {
      "attachments": {},
      "cell_type": "markdown",
      "id": "0e0c8638",
      "metadata": {},
      "source": [
        "8. Кто из работодателей ждёт саентистов?"
      ]
    },
    {
      "cell_type": "code",
      "execution_count": 197,
      "id": "53452b65",
      "metadata": {},
      "outputs": [],
      "source": [
        "query_6_8 = '''select\n",
        "                   e.name name_employer,\n",
        "                   count(v.id) vacancies -- подсчет вакансий для каждого работодателя \n",
        "               from \n",
        "                    employers e\n",
        "               join vacancies v on v.employer_id = e.id\n",
        "               where (\n",
        "               v.name ilike '%data scientist%' or \n",
        "               v.name ilike '%data science%' or \n",
        "               v.name ilike '%исследователь данных%' or\n",
        "               v.name ilike '%machine learning%' or \n",
        "               v.name ilike '%машинн%обучен%' or \n",
        "               v.name like '%ML%' and v.name not like '%HTML%'\n",
        "               )\n",
        "               group by e.name\n",
        "               order by vacancies desc\n",
        "               limit 10\n",
        "           '''"
      ]
    },
    {
      "cell_type": "code",
      "execution_count": 198,
      "id": "73372550",
      "metadata": {},
      "outputs": [
        {
          "data": {
            "text/html": [
              "<div>\n",
              "<style scoped>\n",
              "    .dataframe tbody tr th:only-of-type {\n",
              "        vertical-align: middle;\n",
              "    }\n",
              "\n",
              "    .dataframe tbody tr th {\n",
              "        vertical-align: top;\n",
              "    }\n",
              "\n",
              "    .dataframe thead th {\n",
              "        text-align: right;\n",
              "    }\n",
              "</style>\n",
              "<table border=\"1\" class=\"dataframe\">\n",
              "  <thead>\n",
              "    <tr style=\"text-align: right;\">\n",
              "      <th></th>\n",
              "      <th>name_employer</th>\n",
              "      <th>vacancies</th>\n",
              "    </tr>\n",
              "  </thead>\n",
              "  <tbody>\n",
              "    <tr>\n",
              "      <th>0</th>\n",
              "      <td>СБЕР</td>\n",
              "      <td>37</td>\n",
              "    </tr>\n",
              "    <tr>\n",
              "      <th>1</th>\n",
              "      <td>Bell Integrator</td>\n",
              "      <td>25</td>\n",
              "    </tr>\n",
              "    <tr>\n",
              "      <th>2</th>\n",
              "      <td>Банк ВТБ (ПАО)</td>\n",
              "      <td>18</td>\n",
              "    </tr>\n",
              "    <tr>\n",
              "      <th>3</th>\n",
              "      <td>VK</td>\n",
              "      <td>15</td>\n",
              "    </tr>\n",
              "    <tr>\n",
              "      <th>4</th>\n",
              "      <td>Positive Technologies</td>\n",
              "      <td>11</td>\n",
              "    </tr>\n",
              "    <tr>\n",
              "      <th>5</th>\n",
              "      <td>Яндекс</td>\n",
              "      <td>9</td>\n",
              "    </tr>\n",
              "    <tr>\n",
              "      <th>6</th>\n",
              "      <td>EvenBet Gaming</td>\n",
              "      <td>9</td>\n",
              "    </tr>\n",
              "    <tr>\n",
              "      <th>7</th>\n",
              "      <td>МегаФон</td>\n",
              "      <td>8</td>\n",
              "    </tr>\n",
              "    <tr>\n",
              "      <th>8</th>\n",
              "      <td>Andersen</td>\n",
              "      <td>7</td>\n",
              "    </tr>\n",
              "    <tr>\n",
              "      <th>9</th>\n",
              "      <td>Ozon</td>\n",
              "      <td>6</td>\n",
              "    </tr>\n",
              "  </tbody>\n",
              "</table>\n",
              "</div>"
            ],
            "text/plain": [
              "           name_employer  vacancies\n",
              "0                   СБЕР         37\n",
              "1        Bell Integrator         25\n",
              "2         Банк ВТБ (ПАО)         18\n",
              "3                     VK         15\n",
              "4  Positive Technologies         11\n",
              "5                 Яндекс          9\n",
              "6         EvenBet Gaming          9\n",
              "7                МегаФон          8\n",
              "8               Andersen          7\n",
              "9                   Ozon          6"
            ]
          },
          "execution_count": 198,
          "metadata": {},
          "output_type": "execute_result"
        }
      ],
      "source": [
        "df = pd.read_sql_query(query_6_8, connection)\n",
        "df"
      ]
    },
    {
      "attachments": {},
      "cell_type": "markdown",
      "id": "1bf63525",
      "metadata": {},
      "source": [
        "9. Выясним как зависит зарплата от ключевых навыков?"
      ]
    },
    {
      "cell_type": "code",
      "execution_count": 199,
      "id": "970006b6",
      "metadata": {},
      "outputs": [],
      "source": [
        "query_6_9 = '''select\n",
        "                   (length(key_skills) -- количество навыков в строке определяем по разности длины строки с длиной строки без разделителей + 1\n",
        "                         -length(replace(key_skills, CHR(9), '')) +1) skills,\n",
        "                   coalesce(salary_from, salary_to) + coalesce(salary_to, salary_from) / 2 salary, -- вычисляем среднюю зарплату\n",
        "                   key_skills\n",
        "               from vacancies \n",
        "               where ( -- фильтр вакансий для дата-саентистов\n",
        "               name ilike '%data scientist%' or \n",
        "               name ilike '%data science%' or \n",
        "               name ilike '%исследователь данных%' or\n",
        "               name ilike '%machine learning%' or \n",
        "               name ilike '%машинн%обучен%' or \n",
        "               name like '%ML%' and name not like '%HTML%'\n",
        "               ) and\n",
        "               (salary_to is not null or salary_from is not null)\n",
        "               order by salary desc\n",
        "            '''"
      ]
    },
    {
      "cell_type": "code",
      "execution_count": 200,
      "id": "f602d850",
      "metadata": {},
      "outputs": [
        {
          "data": {
            "text/html": [
              "<div>\n",
              "<style scoped>\n",
              "    .dataframe tbody tr th:only-of-type {\n",
              "        vertical-align: middle;\n",
              "    }\n",
              "\n",
              "    .dataframe tbody tr th {\n",
              "        vertical-align: top;\n",
              "    }\n",
              "\n",
              "    .dataframe thead th {\n",
              "        text-align: right;\n",
              "    }\n",
              "</style>\n",
              "<table border=\"1\" class=\"dataframe\">\n",
              "  <thead>\n",
              "    <tr style=\"text-align: right;\">\n",
              "      <th></th>\n",
              "      <th>skills</th>\n",
              "      <th>salary</th>\n",
              "      <th>key_skills</th>\n",
              "    </tr>\n",
              "  </thead>\n",
              "  <tbody>\n",
              "    <tr>\n",
              "      <th>0</th>\n",
              "      <td>4.0</td>\n",
              "      <td>550000</td>\n",
              "      <td>Нейронные сети\\tУдаленная работа\\tMachine Lear...</td>\n",
              "    </tr>\n",
              "    <tr>\n",
              "      <th>1</th>\n",
              "      <td>5.0</td>\n",
              "      <td>500000</td>\n",
              "      <td>Tableau\\tАнглийский язык\\tPython\\tАнализ данны...</td>\n",
              "    </tr>\n",
              "    <tr>\n",
              "      <th>2</th>\n",
              "      <td>4.0</td>\n",
              "      <td>450000</td>\n",
              "      <td>машинное обучение\\tалгоритмы\\tcomputer vision\\...</td>\n",
              "    </tr>\n",
              "    <tr>\n",
              "      <th>3</th>\n",
              "      <td>14.0</td>\n",
              "      <td>450000</td>\n",
              "      <td>Python\\tМатематическая статистика\\tSQL\\tLinux\\...</td>\n",
              "    </tr>\n",
              "    <tr>\n",
              "      <th>4</th>\n",
              "      <td>5.0</td>\n",
              "      <td>450000</td>\n",
              "      <td>PyTorch\\tPython\\tTensorflow\\tComputer Vision\\t...</td>\n",
              "    </tr>\n",
              "    <tr>\n",
              "      <th>...</th>\n",
              "      <td>...</td>\n",
              "      <td>...</td>\n",
              "      <td>...</td>\n",
              "    </tr>\n",
              "    <tr>\n",
              "      <th>57</th>\n",
              "      <td>8.0</td>\n",
              "      <td>85000</td>\n",
              "      <td>Python\\tOpenCV\\tTensorflow\\tComputer Vision\\tН...</td>\n",
              "    </tr>\n",
              "    <tr>\n",
              "      <th>58</th>\n",
              "      <td>10.0</td>\n",
              "      <td>75000</td>\n",
              "      <td>Python\\tSQL\\tMachine Learning\\tData Science\\tА...</td>\n",
              "    </tr>\n",
              "    <tr>\n",
              "      <th>59</th>\n",
              "      <td>5.0</td>\n",
              "      <td>75000</td>\n",
              "      <td>Python\\tSQL\\tАнглийский язык\\tLinux\\tООП</td>\n",
              "    </tr>\n",
              "    <tr>\n",
              "      <th>60</th>\n",
              "      <td>5.0</td>\n",
              "      <td>75000</td>\n",
              "      <td>Python\\tМатематическая статистика\\tSQL\\tPandas...</td>\n",
              "    </tr>\n",
              "    <tr>\n",
              "      <th>61</th>\n",
              "      <td>11.0</td>\n",
              "      <td>55500</td>\n",
              "      <td>Python\\tSQL\\tData Mining\\tC++\\tМатематический ...</td>\n",
              "    </tr>\n",
              "  </tbody>\n",
              "</table>\n",
              "<p>62 rows × 3 columns</p>\n",
              "</div>"
            ],
            "text/plain": [
              "    skills  salary                                         key_skills\n",
              "0      4.0  550000  Нейронные сети\\tУдаленная работа\\tMachine Lear...\n",
              "1      5.0  500000  Tableau\\tАнглийский язык\\tPython\\tАнализ данны...\n",
              "2      4.0  450000  машинное обучение\\tалгоритмы\\tcomputer vision\\...\n",
              "3     14.0  450000  Python\\tМатематическая статистика\\tSQL\\tLinux\\...\n",
              "4      5.0  450000  PyTorch\\tPython\\tTensorflow\\tComputer Vision\\t...\n",
              "..     ...     ...                                                ...\n",
              "57     8.0   85000  Python\\tOpenCV\\tTensorflow\\tComputer Vision\\tН...\n",
              "58    10.0   75000  Python\\tSQL\\tMachine Learning\\tData Science\\tА...\n",
              "59     5.0   75000           Python\\tSQL\\tАнглийский язык\\tLinux\\tООП\n",
              "60     5.0   75000  Python\\tМатематическая статистика\\tSQL\\tPandas...\n",
              "61    11.0   55500  Python\\tSQL\\tData Mining\\tC++\\tМатематический ...\n",
              "\n",
              "[62 rows x 3 columns]"
            ]
          },
          "execution_count": 200,
          "metadata": {},
          "output_type": "execute_result"
        }
      ],
      "source": [
        "df = pd.read_sql_query(query_6_9, connection)\n",
        "df"
      ]
    },
    {
      "cell_type": "markdown",
      "id": "6a7892b4-4113-4746-adce-18aa2844f18e",
      "metadata": {
        "id": "6a7892b4-4113-4746-adce-18aa2844f18e"
      },
      "source": [
        "***"
      ]
    },
    {
      "attachments": {},
      "cell_type": "markdown",
      "id": "fce53f88",
      "metadata": {},
      "source": [
        "**Выводы по предметному анализу:**  \n",
        "* В базе 1771 вакансий, связанных с данными.\n",
        "* Фильтр на дата - саентиста проходят 480 вакансий. \n",
        "* Для начинающих саентистов всего 51 вакансия.\n",
        "* 201 вакансия для DS требует в качестве ключевого навыка SQL или postgres, а python 351 вакансия. Кандидатам следует поддерживать форму в этих навыках.   \n",
        "* Величину зарплаты для DS указывают лиш 62 работодателя, что составляет 13% в отличие от 49% в общем случае. Предположительно, работодатели решение этого вопроса откладывают на собеседование.\n",
        "* DS с опытом работы 3-6 лет может расчитывать в среднем на ЗП в 243115 руб., а с опытом 1-3 года ЗП около 140 тыс. руб. ЗП у дата-саентистов заметно выше средних показателей приблизительно в 1.8 раз.\n",
        "* В вакансиях для DS в среднем указывают более 6 ключевых навыков, при этом, кореляции их числа  с предлагаемой зарплатой не прослеживается. \n",
        "* Потребность в дата-саентистах не корелирует с общим числом вакансий у работодателей. Так Яндекс заявил потребность лишь в 9-ти саентистах."
      ]
    },
    {
      "cell_type": "markdown",
      "id": "c0ED6fh7wiBT",
      "metadata": {
        "id": "c0ED6fh7wiBT"
      },
      "source": [
        "# Общий вывод по проекту"
      ]
    },
    {
      "attachments": {},
      "cell_type": "markdown",
      "id": "364c7b5d",
      "metadata": {},
      "source": [
        "* Всего в базе представлено 49197, общее количество работодателей 23501, из них с вакансиями 14906. Среднее количество вакансий у работодателя: 3.3\n",
        "* Распределение вакансий по регионам, прямо коррелирует с административной значимостью и численностью населения. В первых рядах по количеству вакансий находятся города - миллионники, столицы стран СНГ, административные центры субъектов Российской Федерации, крупнейшие города помимо них. Так на долю Москвы приходится почти 11 % от общего количества вакансий, доля Санкт-Петербурга почти 6 %. На третьем месте Минск с более, чем 4 %.\n",
        "* Более половины вакансий - 51 %, не имеют каких-либо указаний на предлагаемую заработную плату. Средние значения для нижней и верхней границы зарплатной вилки составляют 71 и 110 тыс. рублей, соответственно.\n",
        "* Более 80 % вакансий предполагают личное присутствие на рабочем месте (полный день, сменный и гибкий график), на долю удаленной работы приходится около 19 %. Вахтовый метод примерно 0.8 %. Относительно формата занятости: более 93 % вакансий предполагают полную занятость. Частичная занятость и стажировка - всего чуть больше 4% и 1.5%, соответственно. Проектная работа, менее 1 %.\n",
        "* В большинстве вакансий (более 85 %) указан требуемый опыт работы. Половина работодателей хотят видеть молодых специалистов с опытом от 1 до 3 лет, почти 30% ждут опытных специалистов с опытом от 3 до 6 лет и 2.7% - больше 6 лет опыта. При росте опыта растет предлагаемая зарплата.\n",
        "* У работодателей наблюдается кореляция числа вакансий с числом регионов, т.е. при росте числа вакансий растет число регионов публикации. По количеству вакансий и регионов публикации лидирует компания \"Яндекс\" - 1933 вакансии примерно 4% от общего количества, на втором месте компания \"Ростелеком\", что соответствует, в свою очередь, охвату пользователей. \n",
        "* У примерно 36% работодателей не указана сфера деятельности. Это усложняет анализ.\n",
        "* Связь между количеством ключевых навыков и зарплатой не прослеживается.\n",
        "\n",
        "## Для «Data Science»:\n",
        "* 1771 вакансия имеет отношение к данным (в названии присутствуют или «data» или «данн»), это 3.6 % от всего количества вакансий. Фильтр на дата - саентиста проходят 480 вакансий, или чуть меньше 1 %.\n",
        "*  Для начинающих саентистов всего 51 вакансия.\n",
        "* 201 вакансия для DS требует в качестве ключевого навыка SQL или postgres, а python 351 вакансия.\n",
        "* 6.41 среднее количество ключевых навыков в вакансиях для дата-сайентистов.\n",
        "* В 13 % (62 вакансии) для дата-сайентистов указана одна или обе границы зарплатной вилки. Сотрудникам без опыта готовы платить 75 тыс. рублей, с опытом от 1 - 3 лет почти в два раза больше, 140 тыс. руб., а от 3 и до 6 лет: в три с половиной раза больше, 243 тыс. руб. Для опыта свыше 6 лет – зарплата не указана.  Максимальная и минимальная указанные зарплаты: 55.5 и 550 тыс. руб. Это существенно выше чем в среднем по базе.\n",
        "* Связь между количеством ключевых навыков и зарплатой также отсутствует. Ключевых навыков для дата-сайентистов указано от 2 до 16. Распределение по вакансиям равномерное.\n",
        "\n",
        "\n",
        "Специальность «Data Science» количественно меньше других вакансий ИТ сферы. Вакансии предлагаются чаще крупными компаниями (банки и иные финансовые компании, телекоммуникационные корпорации, интернет-гиганты торговой, социально-сетевой, игровой и т.п. направленности, торговые гиганты и т.п.), крупными промышленными компаниями и научными учреждениями. Востребованы специалисты с опытом, с набором определенных ключевых навыков. Вакансии предлагаются в крупных городах, Москве, СПб. Возможная удаленная работа. Заработная плата в целом в два  раза выше, чем в среднем для ИТ сферы и зависит в первую очередь от опыта.\n"
      ]
    },
    {
      "attachments": {},
      "cell_type": "markdown",
      "id": "3256a747",
      "metadata": {},
      "source": [
        "# Дополнительные исследования"
      ]
    },
    {
      "attachments": {},
      "cell_type": "markdown",
      "id": "4e7756ac",
      "metadata": {},
      "source": [
        "Попробуем выяснить наличие связи между зарплатой, количеством ключевых требований и требуемым опытом для всей базы вакансий. При этом будем рассматривать вакансии в которых указана хоть какая-то заработная плата (все таки нас интересует связь именно с зарплатой). А для случая отсутствия ключевых навыков приравняем их количество к 0."
      ]
    },
    {
      "cell_type": "code",
      "execution_count": 201,
      "id": "00a9203d",
      "metadata": {},
      "outputs": [],
      "source": [
        "query_7_1 = ''' select\n",
        "                    (length(coalesce(key_skills, '1')) - length(replace(coalesce(key_skills, '2'), CHR(9), ''))::int + 1) skills, -- вычисляем количество навыков.В случае отсутствия навыков: 1 - 2 + 1 = 0\n",
        "                    round(coalesce(salary_from, salary_to) + coalesce(salary_to, salary_from) / 2) salary, -- вычисляем среднюю зарплату\n",
        "                    experience\n",
        "                from\n",
        "                    vacancies\n",
        "                where salary_from is not null or salary_to is not null -- условие наличия данных хотя бы для минимальной или максимальнной зарплаты\n",
        "                order by experience \n",
        "            '''"
      ]
    },
    {
      "cell_type": "code",
      "execution_count": 202,
      "id": "c060f600",
      "metadata": {},
      "outputs": [
        {
          "data": {
            "text/html": [
              "<div>\n",
              "<style scoped>\n",
              "    .dataframe tbody tr th:only-of-type {\n",
              "        vertical-align: middle;\n",
              "    }\n",
              "\n",
              "    .dataframe tbody tr th {\n",
              "        vertical-align: top;\n",
              "    }\n",
              "\n",
              "    .dataframe thead th {\n",
              "        text-align: right;\n",
              "    }\n",
              "</style>\n",
              "<table border=\"1\" class=\"dataframe\">\n",
              "  <thead>\n",
              "    <tr style=\"text-align: right;\">\n",
              "      <th></th>\n",
              "      <th>skills</th>\n",
              "      <th>salary</th>\n",
              "      <th>experience</th>\n",
              "    </tr>\n",
              "  </thead>\n",
              "  <tbody>\n",
              "    <tr>\n",
              "      <th>0</th>\n",
              "      <td>3</td>\n",
              "      <td>600000.0</td>\n",
              "      <td>Более 6 лет</td>\n",
              "    </tr>\n",
              "    <tr>\n",
              "      <th>1</th>\n",
              "      <td>7</td>\n",
              "      <td>250000.0</td>\n",
              "      <td>Более 6 лет</td>\n",
              "    </tr>\n",
              "    <tr>\n",
              "      <th>2</th>\n",
              "      <td>5</td>\n",
              "      <td>147750.0</td>\n",
              "      <td>Более 6 лет</td>\n",
              "    </tr>\n",
              "    <tr>\n",
              "      <th>3</th>\n",
              "      <td>10</td>\n",
              "      <td>750000.0</td>\n",
              "      <td>Более 6 лет</td>\n",
              "    </tr>\n",
              "    <tr>\n",
              "      <th>4</th>\n",
              "      <td>4</td>\n",
              "      <td>300000.0</td>\n",
              "      <td>Более 6 лет</td>\n",
              "    </tr>\n",
              "    <tr>\n",
              "      <th>...</th>\n",
              "      <td>...</td>\n",
              "      <td>...</td>\n",
              "      <td>...</td>\n",
              "    </tr>\n",
              "    <tr>\n",
              "      <th>24068</th>\n",
              "      <td>1</td>\n",
              "      <td>90000.0</td>\n",
              "      <td>От 3 до 6 лет</td>\n",
              "    </tr>\n",
              "    <tr>\n",
              "      <th>24069</th>\n",
              "      <td>5</td>\n",
              "      <td>175000.0</td>\n",
              "      <td>От 3 до 6 лет</td>\n",
              "    </tr>\n",
              "    <tr>\n",
              "      <th>24070</th>\n",
              "      <td>13</td>\n",
              "      <td>51869.0</td>\n",
              "      <td>От 3 до 6 лет</td>\n",
              "    </tr>\n",
              "    <tr>\n",
              "      <th>24071</th>\n",
              "      <td>5</td>\n",
              "      <td>83400.0</td>\n",
              "      <td>От 3 до 6 лет</td>\n",
              "    </tr>\n",
              "    <tr>\n",
              "      <th>24072</th>\n",
              "      <td>5</td>\n",
              "      <td>83400.0</td>\n",
              "      <td>От 3 до 6 лет</td>\n",
              "    </tr>\n",
              "  </tbody>\n",
              "</table>\n",
              "<p>24073 rows × 3 columns</p>\n",
              "</div>"
            ],
            "text/plain": [
              "       skills    salary     experience\n",
              "0           3  600000.0    Более 6 лет\n",
              "1           7  250000.0    Более 6 лет\n",
              "2           5  147750.0    Более 6 лет\n",
              "3          10  750000.0    Более 6 лет\n",
              "4           4  300000.0    Более 6 лет\n",
              "...       ...       ...            ...\n",
              "24068       1   90000.0  От 3 до 6 лет\n",
              "24069       5  175000.0  От 3 до 6 лет\n",
              "24070      13   51869.0  От 3 до 6 лет\n",
              "24071       5   83400.0  От 3 до 6 лет\n",
              "24072       5   83400.0  От 3 до 6 лет\n",
              "\n",
              "[24073 rows x 3 columns]"
            ]
          },
          "execution_count": 202,
          "metadata": {},
          "output_type": "execute_result"
        }
      ],
      "source": [
        "skills_salary_exp = pd.read_sql_query(query_7_1, connection)\n",
        "skills_salary_exp"
      ]
    },
    {
      "attachments": {},
      "cell_type": "markdown",
      "id": "f1aa5076",
      "metadata": {},
      "source": [
        "Создадим визуализацию предлагаемой заработной платы. Будем использовать тепловую карту с аннотацией. Построим сводную таблицу. Солбцы сводной таблицы - количество ключевых навыков, в стороки - требуемый опыт. В качестве значений возьмем медиану совокупности зарплат. "
      ]
    },
    {
      "cell_type": "code",
      "execution_count": 203,
      "id": "c9d3d243",
      "metadata": {},
      "outputs": [
        {
          "data": {
            "image/png": "[encoded data removed]"
          },
          "metadata": {},
          "output_type": "display_data"
        }
      ],
      "source": [
        "outflow_df = skills_salary_exp.pivot_table( # Создаём сводную таблицу\n",
        "    values = 'salary',\n",
        "    index = 'experience',\n",
        "    columns = 'skills',\n",
        "    aggfunc='median'\n",
        ")\n",
        "\n",
        "outflow_df = outflow_df.append(outflow_df.iloc[:,:]).iloc [1:, :] # Упорядычеваем (переставляем) строки таблицы\n",
        "\n",
        "fig = px.imshow(\n",
        "    outflow_df,\n",
        "    title='Взаимосвязь между требуемым опытом, количеством ключевых навыков и зарплатой',\n",
        "    labels={'x':'Количество ключевых навыков', 'y':'Требуемый опыт'},\n",
        "    width=1200,\n",
        "    height=500,\n",
        "\n",
        "    color_continuous_scale='greens'# цветовая гамма    \n",
        "    )\n",
        "\n",
        "fig.update_xaxes(dtick=1)  # шаг тиков на оси x\n",
        "# Настройка шаблона наведения курсора мыши\n",
        "fig.update_traces(\n",
        "    hovertemplate=\"Количество навыков: %{x}<br>Опыт: %{y}<br>Зарплата: %{z}\"\n",
        ") \n",
        "  \n",
        "fig.write_html(\"plotly/img1.html\")\n",
        "fig.write_image('pictures/img1.png')\n",
        "fig.show('png')"
      ]
    },
    {
      "attachments": {},
      "cell_type": "markdown",
      "id": "4cd2512c",
      "metadata": {},
      "source": [
        "### Вывод: \n",
        "Уровень заработной платы вне зависимости от навыков, однозначно, определяет требуемый опыт.  Есть 5 \"черных дыр\", общюю картину это не меняет."
      ]
    },
    {
      "cell_type": "code",
      "execution_count": 204,
      "id": "c8d7f37e",
      "metadata": {},
      "outputs": [],
      "source": [
        "connection.close()"
      ]
    }
  ],
  "metadata": {
    "colab": {
      "collapsed_sections": [
        "8d62a9f3-f64e-4fe7-bdac-c4dffa16155e"
      ],
      "provenance": []
    },
    "kernelspec": {
      "display_name": "Python 3 (ipykernel)",
      "language": "python",
      "name": "python3"
    },
    "language_info": {
      "codemirror_mode": {
        "name": "ipython",
        "version": 3
      },
      "file_extension": ".py",
      "mimetype": "text/x-python",
      "name": "python",
      "nbconvert_exporter": "python",
      "pygments_lexer": "ipython3",
      "version": "3.10.0"
    }
  },
  "nbformat": 4,
  "nbformat_minor": 5
}
